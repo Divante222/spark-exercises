{
 "cells": [
  {
   "cell_type": "code",
   "execution_count": 135,
   "id": "504c0f0b",
   "metadata": {},
   "outputs": [],
   "source": [
    "import os\n",
    "import pyspark\n",
    "from pyspark.sql import SparkSession\n",
    "from pyspark.sql.functions import *\n",
    "from pyspark.sql.types import StructType, StructField, StringType\n",
    "import pandas as pd\n"
   ]
  },
  {
   "cell_type": "code",
   "execution_count": 2,
   "id": "da117c4a",
   "metadata": {},
   "outputs": [
    {
     "name": "stderr",
     "output_type": "stream",
     "text": [
      "Setting default log level to \"WARN\".\n",
      "To adjust logging level use sc.setLogLevel(newLevel). For SparkR, use setLogLevel(newLevel).\n",
      "23/07/05 12:24:56 WARN NativeCodeLoader: Unable to load native-hadoop library for your platform... using builtin-java classes where applicable\n"
     ]
    }
   ],
   "source": [
    "spark = SparkSession.builder.getOrCreate()"
   ]
  },
  {
   "cell_type": "markdown",
   "id": "12a886b1",
   "metadata": {},
   "source": [
    "# Read the case, department, and source data into their own spark dataframes."
   ]
  },
  {
   "cell_type": "code",
   "execution_count": 143,
   "id": "e96feb09",
   "metadata": {},
   "outputs": [
    {
     "name": "stderr",
     "output_type": "stream",
     "text": [
      "                                                                                \r"
     ]
    },
    {
     "data": {
      "text/plain": [
       "DataFrame[source_id: string, source_username: string]"
      ]
     },
     "execution_count": 143,
     "metadata": {},
     "output_type": "execute_result"
    }
   ],
   "source": [
    "source_df = spark.read.csv(\"source.csv\", sep=\",\", header=True, inferSchema=True)\n",
    "case_df = spark.read.csv(\"case.csv\", sep=\",\", header=True, inferSchema=True)\n",
    "dept_df = spark.read.csv(\"dept.csv\", sep=\",\", header=True, inferSchema=True)\n",
    "\n",
    "source_df"
   ]
  },
  {
   "cell_type": "markdown",
   "id": "ebd598e8",
   "metadata": {},
   "source": [
    "# Write the code necessary to store the source data in both csv and json format, store these as sources_csv and sources_json"
   ]
  },
  {
   "cell_type": "code",
   "execution_count": 4,
   "id": "be10b154",
   "metadata": {},
   "outputs": [
    {
     "name": "stderr",
     "output_type": "stream",
     "text": [
      "                                                                                \r"
     ]
    }
   ],
   "source": [
    "source_df.write.json(\"source_json\", mode=\"overwrite\")\n",
    "case_df.write.json(\"case_json\", mode=\"overwrite\")\n",
    "dept_df.write.json(\"dept_json\", mode=\"overwrite\")"
   ]
  },
  {
   "cell_type": "code",
   "execution_count": 5,
   "id": "45856828",
   "metadata": {},
   "outputs": [
    {
     "name": "stderr",
     "output_type": "stream",
     "text": [
      "                                                                                \r"
     ]
    }
   ],
   "source": [
    "(\n",
    "    source_df.write.format(\"csv\")\n",
    "    .mode(\"overwrite\")\n",
    "    .option(\"header\", True)\n",
    "    .save(\"source_csv\")\n",
    ")\n",
    "(\n",
    "    case_df.write.format(\"csv\")\n",
    "    .mode(\"overwrite\")\n",
    "    .option(\"header\", True)\n",
    "    .save(\"case_csv\")\n",
    ")\n",
    "(\n",
    "    dept_df.write.format(\"csv\")\n",
    "    .mode(\"overwrite\")\n",
    "    .option(\"header\", True)\n",
    "    .save(\"dept_csv\")\n",
    ")"
   ]
  },
  {
   "cell_type": "markdown",
   "id": "8fb7b669",
   "metadata": {},
   "source": [
    "# Inspect your folder structure. What do you notice?"
   ]
  },
  {
   "cell_type": "markdown",
   "id": "273c2101",
   "metadata": {},
   "source": [
    "I noticed that they all had their own folders containing success and it was accompanied by at least one part"
   ]
  },
  {
   "cell_type": "markdown",
   "id": "80487573",
   "metadata": {},
   "source": [
    "# Inspect the data in your dataframes. Are the data types appropriate? Write the code necessary to cast the values to the appropriate types."
   ]
  },
  {
   "cell_type": "code",
   "execution_count": 6,
   "id": "a27e30ff",
   "metadata": {},
   "outputs": [
    {
     "name": "stdout",
     "output_type": "stream",
     "text": [
      "+---------+----------------+\n",
      "|source_id| source_username|\n",
      "+---------+----------------+\n",
      "|   100137|Merlene Blodgett|\n",
      "|   103582|     Carmen Cura|\n",
      "+---------+----------------+\n",
      "only showing top 2 rows\n",
      "\n"
     ]
    }
   ],
   "source": [
    "source_df.show(2)"
   ]
  },
  {
   "cell_type": "code",
   "execution_count": 144,
   "id": "a5705261",
   "metadata": {},
   "outputs": [
    {
     "name": "stdout",
     "output_type": "stream",
     "text": [
      "root\n",
      " |-- source_id: string (nullable = true)\n",
      " |-- source_username: string (nullable = true)\n",
      "\n"
     ]
    }
   ],
   "source": [
    "\n",
    "source_df.printSchema()"
   ]
  },
  {
   "cell_type": "code",
   "execution_count": 8,
   "id": "e9d12ba9",
   "metadata": {},
   "outputs": [
    {
     "name": "stdout",
     "output_type": "stream",
     "text": [
      "-RECORD 0----------------------------------------------------\n",
      " case_id              | 1014127332                           \n",
      " case_opened_date     | 1/1/18 0:42                          \n",
      " case_closed_date     | 1/1/18 12:29                         \n",
      " SLA_due_date         | 9/26/20 0:42                         \n",
      " case_late            | NO                                   \n",
      " num_days_late        | -998.5087616000001                   \n",
      " case_closed          | YES                                  \n",
      " dept_division        | Field Operations                     \n",
      " service_request_type | Stray Animal                         \n",
      " SLA_days             | 999.0                                \n",
      " case_status          | Closed                               \n",
      " source_id            | svcCRMLS                             \n",
      " request_address      | 2315  EL PASO ST, San Antonio, 78207 \n",
      " council_district     | 5                                    \n",
      "-RECORD 1----------------------------------------------------\n",
      " case_id              | 1014127333                           \n",
      " case_opened_date     | 1/1/18 0:46                          \n",
      " case_closed_date     | 1/3/18 8:11                          \n",
      " SLA_due_date         | 1/5/18 8:30                          \n",
      " case_late            | NO                                   \n",
      " num_days_late        | -2.0126041669999997                  \n",
      " case_closed          | YES                                  \n",
      " dept_division        | Storm Water                          \n",
      " service_request_type | Removal Of Obstruction               \n",
      " SLA_days             | 4.322222222                          \n",
      " case_status          | Closed                               \n",
      " source_id            | svcCRMSS                             \n",
      " request_address      | 2215  GOLIAD RD, San Antonio, 78223  \n",
      " council_district     | 3                                    \n",
      "only showing top 2 rows\n",
      "\n"
     ]
    }
   ],
   "source": [
    "case_df.show(2, vertical=True, truncate=False)"
   ]
  },
  {
   "cell_type": "code",
   "execution_count": 16,
   "id": "2ec8e62c",
   "metadata": {},
   "outputs": [
    {
     "name": "stdout",
     "output_type": "stream",
     "text": [
      "root\n",
      " |-- case_id: integer (nullable = true)\n",
      " |-- case_opened_date: timestamp (nullable = true)\n",
      " |-- case_closed_date: timestamp (nullable = true)\n",
      " |-- SLA_due_date: timestamp (nullable = true)\n",
      " |-- case_late: string (nullable = true)\n",
      " |-- num_days_late: double (nullable = true)\n",
      " |-- case_closed: string (nullable = true)\n",
      " |-- dept_division: string (nullable = true)\n",
      " |-- service_request_type: string (nullable = true)\n",
      " |-- SLA_days: double (nullable = true)\n",
      " |-- case_status: string (nullable = true)\n",
      " |-- source_id: string (nullable = true)\n",
      " |-- request_address: string (nullable = true)\n",
      " |-- council_district: integer (nullable = true)\n",
      "\n"
     ]
    }
   ],
   "source": [
    "fmt = \"M/d/yy H:mm\"\n",
    "\n",
    "case_df = case_df.withColumn(\"case_opened_date\", to_timestamp(\"case_opened_date\", fmt))\\\n",
    ".withColumn(\"case_closed_date\", to_timestamp(\"case_closed_date\", fmt))\\\n",
    ".withColumn(\"SLA_due_date\", to_timestamp(\"SLA_due_date\", fmt))\n",
    "          \n",
    "          \n",
    "\n",
    "case_df.printSchema()How old is the latest (in terms of days past SLA) currently open issue? How long has the oldest (in terms of days since opened) currently opened issue been open?"
   ]
  },
  {
   "cell_type": "code",
   "execution_count": 97,
   "id": "807c7b57",
   "metadata": {},
   "outputs": [
    {
     "name": "stdout",
     "output_type": "stream",
     "text": [
      "-RECORD 0----------------------------------------\n",
      " dept_division          | 311 Call Center        \n",
      " dept_name              | Customer Service       \n",
      " standardized_dept_name | Customer Service       \n",
      " dept_subject_to_SLA    | YES                    \n",
      "-RECORD 1----------------------------------------\n",
      " dept_division          | Brush                  \n",
      " dept_name              | Solid Waste Management \n",
      " standardized_dept_name | Solid Waste            \n",
      " dept_subject_to_SLA    | YES                    \n",
      "only showing top 2 rows\n",
      "\n"
     ]
    }
   ],
   "source": [
    "dept_df.show(2, vertical=True, truncate=False)"
   ]
  },
  {
   "cell_type": "code",
   "execution_count": 11,
   "id": "e239bc3e",
   "metadata": {
    "scrolled": true
   },
   "outputs": [
    {
     "name": "stdout",
     "output_type": "stream",
     "text": [
      "root\n",
      " |-- dept_division: string (nullable = true)\n",
      " |-- dept_name: string (nullable = true)\n",
      " |-- standardized_dept_name: string (nullable = true)\n",
      " |-- dept_subject_to_SLA: string (nullable = true)\n",
      "\n"
     ]
    }
   ],
   "source": [
    "dept_df.printSchema()"
   ]
  },
  {
   "cell_type": "markdown",
   "id": "5d0d4a9f",
   "metadata": {},
   "source": [
    "# How old is the latest (in terms of days past SLA) currently open issue? How long has the oldest (in terms of days since opened) currently opened issue been open?"
   ]
  },
  {
   "cell_type": "markdown",
   "id": "599bca30",
   "metadata": {},
   "source": [
    "2217"
   ]
  },
  {
   "cell_type": "markdown",
   "id": "d3e2690e",
   "metadata": {},
   "source": [
    "1792"
   ]
  },
  {
   "cell_type": "code",
   "execution_count": 42,
   "id": "459c56c4",
   "metadata": {
    "scrolled": false
   },
   "outputs": [
    {
     "name": "stderr",
     "output_type": "stream",
     "text": [
      "\r",
      "[Stage 33:>                                                         (0 + 8) / 8]\r"
     ]
    },
    {
     "name": "stdout",
     "output_type": "stream",
     "text": [
      "-RECORD 0-------------------------------\n",
      " case_opened_date | 2017-06-09 13:47:00 \n",
      "only showing top 1 row\n",
      "\n"
     ]
    },
    {
     "name": "stderr",
     "output_type": "stream",
     "text": [
      "\r",
      "[Stage 33:=======>                                                  (1 + 7) / 8]\r",
      "\r",
      "                                                                                \r"
     ]
    },
    {
     "data": {
      "text/plain": [
       "DataFrame[case_opened_date: timestamp]"
      ]
     },
     "execution_count": 42,
     "metadata": {},
     "output_type": "execute_result"
    }
   ],
   "source": [
    "sorted_df = case_df.sort('SLA_due_date', 'case_opened_date')\n",
    "# desc(\"SLA_due_date\")\n",
    "\n",
    "sorted_df.select(col('case_opened_date')).show(1, vertical=True, truncate=False)\n",
    "sorted_df.select(col('case_opened_date'))\n"
   ]
  },
  {
   "cell_type": "code",
   "execution_count": 48,
   "id": "98ec0dff",
   "metadata": {},
   "outputs": [
    {
     "name": "stderr",
     "output_type": "stream",
     "text": [
      "                                                                                \r"
     ]
    },
    {
     "name": "stdout",
     "output_type": "stream",
     "text": [
      "-RECORD 0-------------------------------------------------------\n",
      " case_id              | 1013632928                              \n",
      " case_opened_date     | 2017-06-09 13:47:00                     \n",
      " case_closed_date     | 2017-06-16 15:40:00                     \n",
      " SLA_due_date         | null                                    \n",
      " case_late            | NO                                      \n",
      " num_days_late        | null                                    \n",
      " case_closed          | YES                                     \n",
      " dept_division        | District 9                              \n",
      " service_request_type | Request for Research/Information        \n",
      " SLA_days             | null                                    \n",
      " case_status          | Closed                                  \n",
      " source_id            | 138650                                  \n",
      " request_address      | 1100  SAN PEDRO AVE, San Antonio, 78212 \n",
      " council_district     | 1                                       \n",
      " case_age             | 2217                                    \n",
      "only showing top 1 row\n",
      "\n"
     ]
    }
   ],
   "source": [
    "sorted_df.withColumn(\n",
    "        \"case_age\", datediff(current_timestamp(), 'case_opened_date')).show(1,  vertical=True, truncate=False)\n",
    "    "
   ]
  },
  {
   "cell_type": "code",
   "execution_count": 51,
   "id": "2cc0c19a",
   "metadata": {
    "scrolled": true
   },
   "outputs": [
    {
     "name": "stderr",
     "output_type": "stream",
     "text": [
      "\r",
      "[Stage 38:>                                                         (0 + 8) / 8]\r"
     ]
    },
    {
     "name": "stdout",
     "output_type": "stream",
     "text": [
      "-RECORD 0------------------------------------------------------\n",
      " case_id              | 1014759588                             \n",
      " case_opened_date     | 2018-08-08 10:33:00                    \n",
      " case_closed_date     | null                                   \n",
      " SLA_due_date         | null                                   \n",
      " case_late            | NO                                     \n",
      " num_days_late        | null                                   \n",
      " case_closed          | NO                                     \n",
      " dept_division        | District 2                             \n",
      " service_request_type | Request for Research/Information       \n",
      " SLA_days             | null                                   \n",
      " case_status          | Open                                   \n",
      " source_id            | js12254                                \n",
      " request_address      | 923  VIRGINIA BLVD, San Antonio, 78203 \n",
      " council_district     | 2                                      \n",
      "-RECORD 1------------------------------------------------------\n",
      " case_id              | 1014606316                             \n",
      " case_opened_date     | 2018-06-14 22:26:00                    \n",
      " case_closed_date     | null                                   \n",
      " SLA_due_date         | null                                   \n",
      " case_late            | NO                                     \n",
      " num_days_late        | null                                   \n",
      " case_closed          | NO                                     \n",
      " dept_division        | District 1                             \n",
      " service_request_type | Request for Research/Information       \n",
      " SLA_days             | null                                   \n",
      " case_status          | Open                                   \n",
      " source_id            | 142659                                 \n",
      " request_address      | 115  SCHREINER PL, San Antonio, 78212  \n",
      " council_district     | 1                                      \n",
      "-RECORD 2------------------------------------------------------\n",
      " case_id              | 1014598231                             \n",
      " case_opened_date     | 2018-06-12 16:53:00                    \n",
      " case_closed_date     | null                                   \n",
      " SLA_due_date         | null                                   \n",
      " case_late            | NO                                     \n",
      " num_days_late        | null                                   \n",
      " case_closed          | NO                                     \n",
      " dept_division        | District 1                             \n",
      " service_request_type | Request for Research/Information       \n",
      " SLA_days             | null                                   \n",
      " case_status          | Open                                   \n",
      " source_id            | FC24472                                \n",
      " request_address      | BARBET and PILGRIM DR                  \n",
      " council_district     | 1                                      \n",
      "only showing top 3 rows\n",
      "\n"
     ]
    },
    {
     "name": "stderr",
     "output_type": "stream",
     "text": [
      "\r",
      "[Stage 38:=======>                                                  (1 + 7) / 8]\r",
      "\r",
      "                                                                                \r"
     ]
    }
   ],
   "source": [
    "sorted_df = case_df.sort(\"SLA_due_date\", desc('case_opened_date'))\n",
    "sorted_df.show(3, vertical=True, truncate=False)"
   ]
  },
  {
   "cell_type": "code",
   "execution_count": 52,
   "id": "58c61830",
   "metadata": {
    "scrolled": true
   },
   "outputs": [
    {
     "name": "stderr",
     "output_type": "stream",
     "text": [
      "\r",
      "[Stage 39:>                                                         (0 + 8) / 8]\r"
     ]
    },
    {
     "name": "stdout",
     "output_type": "stream",
     "text": [
      "-RECORD 0------------------------------------------------------\n",
      " case_id              | 1014759588                             \n",
      " case_opened_date     | 2018-08-08 10:33:00                    \n",
      " case_closed_date     | null                                   \n",
      " SLA_due_date         | null                                   \n",
      " case_late            | NO                                     \n",
      " num_days_late        | null                                   \n",
      " case_closed          | NO                                     \n",
      " dept_division        | District 2                             \n",
      " service_request_type | Request for Research/Information       \n",
      " SLA_days             | null                                   \n",
      " case_status          | Open                                   \n",
      " source_id            | js12254                                \n",
      " request_address      | 923  VIRGINIA BLVD, San Antonio, 78203 \n",
      " council_district     | 2                                      \n",
      " case_age             | 1792                                   \n",
      "only showing top 1 row\n",
      "\n"
     ]
    },
    {
     "name": "stderr",
     "output_type": "stream",
     "text": [
      "\r",
      "                                                                                \r"
     ]
    }
   ],
   "source": [
    "sorted_df.withColumn(\n",
    "        \"case_age\", datediff(current_timestamp(), 'case_opened_date')).show(1,  vertical=True, truncate=False)"
   ]
  },
  {
   "cell_type": "markdown",
   "id": "e2ea22a7",
   "metadata": {},
   "source": [
    "# How many Stray Animal cases are there?"
   ]
  },
  {
   "cell_type": "markdown",
   "id": "214f2a43",
   "metadata": {},
   "source": [
    "26760"
   ]
  },
  {
   "cell_type": "code",
   "execution_count": 56,
   "id": "ef53b1f6",
   "metadata": {},
   "outputs": [
    {
     "name": "stdout",
     "output_type": "stream",
     "text": [
      "-RECORD 0-----------------------------------------------------\n",
      " case_id              | 1014127332                            \n",
      " case_opened_date     | 2018-01-01 00:42:00                   \n",
      " case_closed_date     | 2018-01-01 12:29:00                   \n",
      " SLA_due_date         | 2020-09-26 00:42:00                   \n",
      " case_late            | NO                                    \n",
      " num_days_late        | -998.5087616000001                    \n",
      " case_closed          | YES                                   \n",
      " dept_division        | Field Operations                      \n",
      " service_request_type | Stray Animal                          \n",
      " SLA_days             | 999.0                                 \n",
      " case_status          | Closed                                \n",
      " source_id            | svcCRMLS                              \n",
      " request_address      | 2315  EL PASO ST, San Antonio, 78207  \n",
      " council_district     | 5                                     \n",
      "-RECORD 1-----------------------------------------------------\n",
      " case_id              | 1014127380                            \n",
      " case_opened_date     | 2018-01-01 08:39:00                   \n",
      " case_closed_date     | 2018-01-01 12:30:00                   \n",
      " SLA_due_date         | 2020-09-26 08:39:00                   \n",
      " case_late            | NO                                    \n",
      " num_days_late        | -998.8396875                          \n",
      " case_closed          | YES                                   \n",
      " dept_division        | Field Operations                      \n",
      " service_request_type | Stray Animal                          \n",
      " SLA_days             | 999.0                                 \n",
      " case_status          | Closed                                \n",
      " source_id            | 139344                                \n",
      " request_address      | FREDSBG RD and NB LOOP 410 NW         \n",
      " council_district     | 7                                     \n",
      "-RECORD 2-----------------------------------------------------\n",
      " case_id              | 1014127403                            \n",
      " case_opened_date     | 2018-01-01 09:51:00                   \n",
      " case_closed_date     | 2018-01-01 11:53:00                   \n",
      " SLA_due_date         | 2020-09-26 09:51:00                   \n",
      " case_late            | NO                                    \n",
      " num_days_late        | -998.9157176000001                    \n",
      " case_closed          | YES                                   \n",
      " dept_division        | Field Operations                      \n",
      " service_request_type | Stray Animal                          \n",
      " SLA_days             | 999.0                                 \n",
      " case_status          | Closed                                \n",
      " source_id            | ns16326                               \n",
      " request_address      | 700  HILDEBRAND E, San Antonio, 78212 \n",
      " council_district     | 1                                     \n",
      "only showing top 3 rows\n",
      "\n"
     ]
    }
   ],
   "source": [
    "case_df[case_df.service_request_type == \"Stray Animal\"].show(3, vertical=True, truncate=False)"
   ]
  },
  {
   "cell_type": "code",
   "execution_count": 58,
   "id": "7e597ff7",
   "metadata": {},
   "outputs": [
    {
     "name": "stderr",
     "output_type": "stream",
     "text": [
      "                                                                                \r"
     ]
    },
    {
     "data": {
      "text/plain": [
       "26760"
      ]
     },
     "execution_count": 58,
     "metadata": {},
     "output_type": "execute_result"
    }
   ],
   "source": [
    "case_df[case_df.service_request_type == \"Stray Animal\"].count()"
   ]
  },
  {
   "cell_type": "markdown",
   "id": "31446366",
   "metadata": {},
   "source": [
    "# How many service requests that are assigned to the Field Operations department (dept_division) are not classified as \"Officer Standby\" request type (service_request_type)?"
   ]
  },
  {
   "cell_type": "markdown",
   "id": "e838b848",
   "metadata": {},
   "source": [
    "113902"
   ]
  },
  {
   "cell_type": "code",
   "execution_count": 65,
   "id": "168e4ab8",
   "metadata": {
    "scrolled": true
   },
   "outputs": [
    {
     "name": "stdout",
     "output_type": "stream",
     "text": [
      "-RECORD 0---------------------------------------------------------\n",
      " case_id              | 1014127332                                \n",
      " case_opened_date     | 2018-01-01 00:42:00                       \n",
      " case_closed_date     | 2018-01-01 12:29:00                       \n",
      " SLA_due_date         | 2020-09-26 00:42:00                       \n",
      " case_late            | NO                                        \n",
      " num_days_late        | -998.5087616000001                        \n",
      " case_closed          | YES                                       \n",
      " dept_division        | Field Operations                          \n",
      " service_request_type | Stray Animal                              \n",
      " SLA_days             | 999.0                                     \n",
      " case_status          | Closed                                    \n",
      " source_id            | svcCRMLS                                  \n",
      " request_address      | 2315  EL PASO ST, San Antonio, 78207      \n",
      " council_district     | 5                                         \n",
      "-RECORD 1---------------------------------------------------------\n",
      " case_id              | 1014127336                                \n",
      " case_opened_date     | 2018-01-01 01:34:00                       \n",
      " case_closed_date     | 2018-01-01 13:29:00                       \n",
      " SLA_due_date         | 2018-01-01 04:34:00                       \n",
      " case_late            | YES                                       \n",
      " num_days_late        | 0.37216435200000003                       \n",
      " case_closed          | YES                                       \n",
      " dept_division        | Field Operations                          \n",
      " service_request_type | Animal Cruelty(Critical)                  \n",
      " SLA_days             | 0.125                                     \n",
      " case_status          | Closed                                    \n",
      " source_id            | svcCRMSS                                  \n",
      " request_address      | 734  CLEARVIEW DR, San Antonio, 78228     \n",
      " council_district     | 7                                         \n",
      "-RECORD 2---------------------------------------------------------\n",
      " case_id              | 1014127380                                \n",
      " case_opened_date     | 2018-01-01 08:39:00                       \n",
      " case_closed_date     | 2018-01-01 12:30:00                       \n",
      " SLA_due_date         | 2020-09-26 08:39:00                       \n",
      " case_late            | NO                                        \n",
      " num_days_late        | -998.8396875                              \n",
      " case_closed          | YES                                       \n",
      " dept_division        | Field Operations                          \n",
      " service_request_type | Stray Animal                              \n",
      " SLA_days             | 999.0                                     \n",
      " case_status          | Closed                                    \n",
      " source_id            | 139344                                    \n",
      " request_address      | FREDSBG RD and NB LOOP 410 NW             \n",
      " council_district     | 7                                         \n",
      "-RECORD 3---------------------------------------------------------\n",
      " case_id              | 1014127385                                \n",
      " case_opened_date     | 2018-01-01 08:56:00                       \n",
      " case_closed_date     | 2018-01-01 10:15:00                       \n",
      " SLA_due_date         | 2018-01-01 11:56:00                       \n",
      " case_late            | NO                                        \n",
      " num_days_late        | -0.070092593                              \n",
      " case_closed          | YES                                       \n",
      " dept_division        | Field Operations                          \n",
      " service_request_type | Animal Cruelty(Critical)                  \n",
      " SLA_days             | 0.125                                     \n",
      " case_status          | Closed                                    \n",
      " source_id            | ns16326                                   \n",
      " request_address      | TRAVIS ST W and 26TH ST NW                \n",
      " council_district     | 5                                         \n",
      "-RECORD 4---------------------------------------------------------\n",
      " case_id              | 1014127386                                \n",
      " case_opened_date     | 2018-01-01 08:56:00                       \n",
      " case_closed_date     | 2018-01-01 11:03:00                       \n",
      " SLA_due_date         | 2018-01-01 11:56:00                       \n",
      " case_late            | NO                                        \n",
      " num_days_late        | -0.037303241                              \n",
      " case_closed          | YES                                       \n",
      " dept_division        | Field Operations                          \n",
      " service_request_type | Animal Cruelty(Critical)                  \n",
      " SLA_days             | 0.125                                     \n",
      " case_status          | Closed                                    \n",
      " source_id            | svcCRMSS                                  \n",
      " request_address      | 111  LUBBOCK ST E, San Antonio, 78204     \n",
      " council_district     | 5                                         \n",
      "-RECORD 5---------------------------------------------------------\n",
      " case_id              | 1014127387                                \n",
      " case_opened_date     | 2018-01-01 08:57:00                       \n",
      " case_closed_date     | 2018-01-01 12:42:00                       \n",
      " SLA_due_date         | 2018-01-01 11:57:00                       \n",
      " case_late            | YES                                       \n",
      " num_days_late        | 0.03150463                                \n",
      " case_closed          | YES                                       \n",
      " dept_division        | Field Operations                          \n",
      " service_request_type | Animal Cruelty(Critical)                  \n",
      " SLA_days             | 0.125                                     \n",
      " case_status          | Closed                                    \n",
      " source_id            | svcCRMSS                                  \n",
      " request_address      | DATAPOINT and FREDSBG RD                  \n",
      " council_district     | 8                                         \n",
      "-RECORD 6---------------------------------------------------------\n",
      " case_id              | 1014127397                                \n",
      " case_opened_date     | 2018-01-01 09:21:00                       \n",
      " case_closed_date     | 2018-03-23 15:14:00                       \n",
      " SLA_due_date         | 2018-01-01 21:21:00                       \n",
      " case_late            | YES                                       \n",
      " num_days_late        | 80.74537037                               \n",
      " case_closed          | YES                                       \n",
      " dept_division        | Field Operations                          \n",
      " service_request_type | Aggressive Animal(Critical)               \n",
      " SLA_days             | 0.5                                       \n",
      " case_status          | Closed                                    \n",
      " source_id            | ns16326                                   \n",
      " request_address      | 162  HOWLE, San Antonio, 78223            \n",
      " council_district     | 3                                         \n",
      "-RECORD 7---------------------------------------------------------\n",
      " case_id              | 1014127400                                \n",
      " case_opened_date     | 2018-01-01 09:30:00                       \n",
      " case_closed_date     | 2018-01-02 16:00:00                       \n",
      " SLA_due_date         | 2018-01-06 09:30:00                       \n",
      " case_late            | NO                                        \n",
      " num_days_late        | -3.7295254630000003                       \n",
      " case_closed          | YES                                       \n",
      " dept_division        | Field Operations                          \n",
      " service_request_type | Animal Neglect                            \n",
      " SLA_days             | 5.0                                       \n",
      " case_status          | Closed                                    \n",
      " source_id            | 139344                                    \n",
      " request_address      | 254  GLOBE AVE, San Antonio, 78228        \n",
      " council_district     | 7                                         \n",
      "-RECORD 8---------------------------------------------------------\n",
      " case_id              | 1014127402                                \n",
      " case_opened_date     | 2018-01-01 09:46:00                       \n",
      " case_closed_date     | 2018-01-06 18:58:00                       \n",
      " SLA_due_date         | 2018-01-06 09:46:00                       \n",
      " case_late            | YES                                       \n",
      " num_days_late        | 0.38280092600000004                       \n",
      " case_closed          | YES                                       \n",
      " dept_division        | Field Operations                          \n",
      " service_request_type | Aggressive Animal(Non-Critical)           \n",
      " SLA_days             | 5.0                                       \n",
      " case_status          | Closed                                    \n",
      " source_id            | ns16326                                   \n",
      " request_address      | 10400  ALPINE VILLAGE, San Antonio, 78245 \n",
      " council_district     | 4                                         \n",
      "-RECORD 9---------------------------------------------------------\n",
      " case_id              | 1014127403                                \n",
      " case_opened_date     | 2018-01-01 09:51:00                       \n",
      " case_closed_date     | 2018-01-01 11:53:00                       \n",
      " SLA_due_date         | 2020-09-26 09:51:00                       \n",
      " case_late            | NO                                        \n",
      " num_days_late        | -998.9157176000001                        \n",
      " case_closed          | YES                                       \n",
      " dept_division        | Field Operations                          \n",
      " service_request_type | Stray Animal                              \n",
      " SLA_days             | 999.0                                     \n",
      " case_status          | Closed                                    \n",
      " source_id            | ns16326                                   \n",
      " request_address      | 700  HILDEBRAND E, San Antonio, 78212     \n",
      " council_district     | 1                                         \n",
      "-RECORD 10--------------------------------------------------------\n",
      " case_id              | 1014127406                                \n",
      " case_opened_date     | 2018-01-01 09:56:00                       \n",
      " case_closed_date     | 2018-01-06 18:58:00                       \n",
      " SLA_due_date         | 2018-01-06 09:56:00                       \n",
      " case_late            | YES                                       \n",
      " num_days_late        | 0.376655093                               \n",
      " case_closed          | YES                                       \n",
      " dept_division        | Field Operations                          \n",
      " service_request_type | Aggressive Animal(Non-Critical)           \n",
      " SLA_days             | 5.0                                       \n",
      " case_status          | Closed                                    \n",
      " source_id            | ns16326                                   \n",
      " request_address      | HAMMOND AVE and PALMETTO S                \n",
      " council_district     | 3                                         \n",
      "-RECORD 11--------------------------------------------------------\n",
      " case_id              | 1014127408                                \n",
      " case_opened_date     | 2018-01-01 10:02:00                       \n",
      " case_closed_date     | 2018-01-01 11:10:00                       \n",
      " SLA_due_date         | 2018-01-01 13:02:00                       \n",
      " case_late            | NO                                        \n",
      " num_days_late        | -0.077939815                              \n",
      " case_closed          | YES                                       \n",
      " dept_division        | Field Operations                          \n",
      " service_request_type | Injured Animal(Critical)                  \n",
      " SLA_days             | 0.125                                     \n",
      " case_status          | Closed                                    \n",
      " source_id            | ns16326                                   \n",
      " request_address      | STATE HWY 151 and PINN RD                 \n",
      " council_district     | 6                                         \n",
      "-RECORD 12--------------------------------------------------------\n",
      " case_id              | 1014127410                                \n",
      " case_opened_date     | 2018-01-01 10:13:00                       \n",
      " case_closed_date     | 2018-02-21 20:06:00                       \n",
      " SLA_due_date         | 2018-01-06 10:13:00                       \n",
      " case_late            | YES                                       \n",
      " num_days_late        | 46.41153935                               \n",
      " case_closed          | YES                                       \n",
      " dept_division        | Field Operations                          \n",
      " service_request_type | Animal Neglect                            \n",
      " SLA_days             | 5.0                                       \n",
      " case_status          | Closed                                    \n",
      " source_id            | ns16326                                   \n",
      " request_address      | 339  BRANDYWINE AVE, San Antonio, 78228   \n",
      " council_district     | 7                                         \n",
      "-RECORD 13--------------------------------------------------------\n",
      " case_id              | 1014127413                                \n",
      " case_opened_date     | 2018-01-01 10:18:00                       \n",
      " case_closed_date     | 2018-01-01 12:46:00                       \n",
      " SLA_due_date         | 2018-01-06 10:18:00                       \n",
      " case_late            | NO                                        \n",
      " num_days_late        | -4.8971990739999995                       \n",
      " case_closed          | YES                                       \n",
      " dept_division        | Field Operations                          \n",
      " service_request_type | Aggressive Animal(Non-Critical)           \n",
      " SLA_days             | 5.0                                       \n",
      " case_status          | Closed                                    \n",
      " source_id            | 139344                                    \n",
      " request_address      | 700  PORTER ST, San Antonio, 78210        \n",
      " council_district     | 2                                         \n",
      "-RECORD 14--------------------------------------------------------\n",
      " case_id              | 1014127417                                \n",
      " case_opened_date     | 2018-01-01 10:32:00                       \n",
      " case_closed_date     | 2018-01-06 11:42:00                       \n",
      " SLA_due_date         | 2018-01-06 10:32:00                       \n",
      " case_late            | YES                                       \n",
      " num_days_late        | 0.048368056                               \n",
      " case_closed          | YES                                       \n",
      " dept_division        | Field Operations                          \n",
      " service_request_type | Animal Neglect                            \n",
      " SLA_days             | 5.0                                       \n",
      " case_status          | Closed                                    \n",
      " source_id            | ns16326                                   \n",
      " request_address      | 4839  FLICKER DR, San Antonio, 78217      \n",
      " council_district     | 10                                        \n",
      "-RECORD 15--------------------------------------------------------\n",
      " case_id              | 1014127418                                \n",
      " case_opened_date     | 2018-01-01 10:33:00                       \n",
      " case_closed_date     | 2018-01-01 11:49:00                       \n",
      " SLA_due_date         | 2018-01-01 22:33:00                       \n",
      " case_late            | NO                                        \n",
      " num_days_late        | -0.447268519                              \n",
      " case_closed          | YES                                       \n",
      " dept_division        | Field Operations                          \n",
      " service_request_type | Trapped/Confined Animal                   \n",
      " SLA_days             | 0.5                                       \n",
      " case_status          | Closed                                    \n",
      " source_id            | 139344                                    \n",
      " request_address      | 150  RUSTLEAF DR, San Antonio, 78242      \n",
      " council_district     | 4                                         \n",
      "-RECORD 16--------------------------------------------------------\n",
      " case_id              | 1014127419                                \n",
      " case_opened_date     | 2018-01-01 10:37:00                       \n",
      " case_closed_date     | 2018-02-11 14:32:00                       \n",
      " SLA_due_date         | 2018-01-06 10:37:00                       \n",
      " case_late            | YES                                       \n",
      " num_days_late        | 36.1630787                                \n",
      " case_closed          | YES                                       \n",
      " dept_division        | Field Operations                          \n",
      " service_request_type | Aggressive Animal(Non-Critical)           \n",
      " SLA_days             | 5.0                                       \n",
      " case_status          | Closed                                    \n",
      " source_id            | ns16326                                   \n",
      " request_address      | 436  SAN HORACIO S, San Antonio, 78237    \n",
      " council_district     | 5                                         \n",
      "-RECORD 17--------------------------------------------------------\n",
      " case_id              | 1014127420                                \n",
      " case_opened_date     | 2018-01-01 10:39:00                       \n",
      " case_closed_date     | 2018-01-01 12:29:00                       \n",
      " SLA_due_date         | 2020-09-26 10:39:00                       \n",
      " case_late            | NO                                        \n",
      " num_days_late        | -998.9229977                              \n",
      " case_closed          | YES                                       \n",
      " dept_division        | Field Operations                          \n",
      " service_request_type | Stray Animal                              \n",
      " SLA_days             | 999.0                                     \n",
      " case_status          | Closed                                    \n",
      " source_id            | 139344                                    \n",
      " request_address      | 702  SANDMEYER, San Antonio, 78208        \n",
      " council_district     | 2                                         \n",
      "-RECORD 18--------------------------------------------------------\n",
      " case_id              | 1014127422                                \n",
      " case_opened_date     | 2018-01-01 10:41:00                       \n",
      " case_closed_date     | 2018-01-01 12:20:00                       \n",
      " SLA_due_date         | 2018-01-01 13:41:00                       \n",
      " case_late            | NO                                        \n",
      " num_days_late        | -0.05648148099999999                      \n",
      " case_closed          | YES                                       \n",
      " dept_division        | Field Operations                          \n",
      " service_request_type | Injured Animal(Critical)                  \n",
      " SLA_days             | 0.125                                     \n",
      " case_status          | Closed                                    \n",
      " source_id            | ns16326                                   \n",
      " request_address      | CHURING DR and PRESCOTT DR                \n",
      " council_district     | 4                                         \n",
      "-RECORD 19--------------------------------------------------------\n",
      " case_id              | 1014127423                                \n",
      " case_opened_date     | 2018-01-01 10:44:00                       \n",
      " case_closed_date     | 2018-01-31 19:23:00                       \n",
      " SLA_due_date         | 2018-01-06 10:44:00                       \n",
      " case_late            | YES                                       \n",
      " num_days_late        | 25.36005787                               \n",
      " case_closed          | YES                                       \n",
      " dept_division        | Field Operations                          \n",
      " service_request_type | Animal Neglect                            \n",
      " SLA_days             | 5.0                                       \n",
      " case_status          | Closed                                    \n",
      " source_id            | 139344                                    \n",
      " request_address      | 2621  STEVES AVE, San Antonio, 78210      \n",
      " council_district     | 3                                         \n",
      "only showing top 20 rows\n",
      "\n"
     ]
    }
   ],
   "source": [
    "# case_df.show(vertical=True, truncate=False)\n",
    "case_df[(case_df['dept_division'] == 'Field Operations') & (case_df['service_request_type'] != \"Officer Standby\")].show(vertical=True, truncate=False)"
   ]
  },
  {
   "cell_type": "code",
   "execution_count": 66,
   "id": "0956c1f9",
   "metadata": {},
   "outputs": [
    {
     "name": "stderr",
     "output_type": "stream",
     "text": [
      "                                                                                \r"
     ]
    },
    {
     "data": {
      "text/plain": [
       "113902"
      ]
     },
     "execution_count": 66,
     "metadata": {},
     "output_type": "execute_result"
    }
   ],
   "source": [
    "case_df[(case_df['dept_division'] == 'Field Operations') & (case_df['service_request_type'] != \"Officer Standby\")].count()"
   ]
  },
  {
   "cell_type": "markdown",
   "id": "4bd31593",
   "metadata": {},
   "source": [
    "# Convert the council_district column to a string column."
   ]
  },
  {
   "cell_type": "code",
   "execution_count": 72,
   "id": "2558b03e",
   "metadata": {},
   "outputs": [
    {
     "name": "stdout",
     "output_type": "stream",
     "text": [
      "root\n",
      " |-- case_id: integer (nullable = true)\n",
      " |-- case_opened_date: timestamp (nullable = true)\n",
      " |-- case_closed_date: timestamp (nullable = true)\n",
      " |-- SLA_due_date: timestamp (nullable = true)\n",
      " |-- case_late: string (nullable = true)\n",
      " |-- num_days_late: double (nullable = true)\n",
      " |-- case_closed: string (nullable = true)\n",
      " |-- dept_division: string (nullable = true)\n",
      " |-- service_request_type: string (nullable = true)\n",
      " |-- SLA_days: double (nullable = true)\n",
      " |-- case_status: string (nullable = true)\n",
      " |-- source_id: string (nullable = true)\n",
      " |-- request_address: string (nullable = true)\n",
      " |-- council_district: string (nullable = true)\n",
      "\n"
     ]
    }
   ],
   "source": [
    "case_df = case_df.withColumn(\"council_district\", col(\"council_district\").cast(\"string\"))\n",
    "case_df.printSchema()"
   ]
  },
  {
   "cell_type": "markdown",
   "id": "d5f37cdb",
   "metadata": {},
   "source": [
    "# Extract the year from the case_closed_date column."
   ]
  },
  {
   "cell_type": "code",
   "execution_count": 89,
   "id": "7482c799",
   "metadata": {
    "scrolled": true
   },
   "outputs": [
    {
     "name": "stdout",
     "output_type": "stream",
     "text": [
      "-RECORD 0--------\n",
      " the_year | 2018 \n",
      "-RECORD 1--------\n",
      " the_year | 2018 \n",
      "-RECORD 2--------\n",
      " the_year | 2018 \n",
      "-RECORD 3--------\n",
      " the_year | 2018 \n",
      "-RECORD 4--------\n",
      " the_year | 2018 \n",
      "-RECORD 5--------\n",
      " the_year | 2018 \n",
      "-RECORD 6--------\n",
      " the_year | 2018 \n",
      "-RECORD 7--------\n",
      " the_year | 2018 \n",
      "-RECORD 8--------\n",
      " the_year | 2018 \n",
      "-RECORD 9--------\n",
      " the_year | 2018 \n",
      "-RECORD 10-------\n",
      " the_year | 2018 \n",
      "-RECORD 11-------\n",
      " the_year | 2018 \n",
      "-RECORD 12-------\n",
      " the_year | 2018 \n",
      "-RECORD 13-------\n",
      " the_year | 2018 \n",
      "-RECORD 14-------\n",
      " the_year | 2018 \n",
      "-RECORD 15-------\n",
      " the_year | 2018 \n",
      "-RECORD 16-------\n",
      " the_year | 2018 \n",
      "-RECORD 17-------\n",
      " the_year | 2018 \n",
      "-RECORD 18-------\n",
      " the_year | 2018 \n",
      "-RECORD 19-------\n",
      " the_year | 2018 \n",
      "only showing top 20 rows\n",
      "\n"
     ]
    }
   ],
   "source": [
    "case_df.select(regexp_extract(\"case_closed_date\", r\"\\d+\", 0).alias('the_year')).show(vertical=True, truncate=False)"
   ]
  },
  {
   "cell_type": "markdown",
   "id": "be2b3f1e",
   "metadata": {},
   "source": [
    "# Convert num_days_late from days to hours in new columns num_hours_late."
   ]
  },
  {
   "cell_type": "code",
   "execution_count": 95,
   "id": "5ea3a538",
   "metadata": {},
   "outputs": [],
   "source": [
    "case_df = case_df.withColumn('num_hours_late', case_df.num_days_late * 24)"
   ]
  },
  {
   "cell_type": "code",
   "execution_count": 96,
   "id": "19d916ab",
   "metadata": {},
   "outputs": [
    {
     "name": "stdout",
     "output_type": "stream",
     "text": [
      "-RECORD 0--------------------------------------------------------\n",
      " case_id              | 1014127332                               \n",
      " case_opened_date     | 2018-01-01 00:42:00                      \n",
      " case_closed_date     | 2018-01-01 12:29:00                      \n",
      " SLA_due_date         | 2020-09-26 00:42:00                      \n",
      " case_late            | NO                                       \n",
      " num_days_late        | -998.5087616000001                       \n",
      " case_closed          | YES                                      \n",
      " dept_division        | Field Operations                         \n",
      " service_request_type | Stray Animal                             \n",
      " SLA_days             | 999.0                                    \n",
      " case_status          | Closed                                   \n",
      " source_id            | svcCRMLS                                 \n",
      " request_address      | 2315  EL PASO ST, San Antonio, 78207     \n",
      " council_district     | 5                                        \n",
      " num_hours_late       | -23964.2102784                           \n",
      "-RECORD 1--------------------------------------------------------\n",
      " case_id              | 1014127333                               \n",
      " case_opened_date     | 2018-01-01 00:46:00                      \n",
      " case_closed_date     | 2018-01-03 08:11:00                      \n",
      " SLA_due_date         | 2018-01-05 08:30:00                      \n",
      " case_late            | NO                                       \n",
      " num_days_late        | -2.0126041669999997                      \n",
      " case_closed          | YES                                      \n",
      " dept_division        | Storm Water                              \n",
      " service_request_type | Removal Of Obstruction                   \n",
      " SLA_days             | 4.322222222                              \n",
      " case_status          | Closed                                   \n",
      " source_id            | svcCRMSS                                 \n",
      " request_address      | 2215  GOLIAD RD, San Antonio, 78223      \n",
      " council_district     | 3                                        \n",
      " num_hours_late       | -48.302500007999996                      \n",
      "-RECORD 2--------------------------------------------------------\n",
      " case_id              | 1014127334                               \n",
      " case_opened_date     | 2018-01-01 00:48:00                      \n",
      " case_closed_date     | 2018-01-02 07:57:00                      \n",
      " SLA_due_date         | 2018-01-05 08:30:00                      \n",
      " case_late            | NO                                       \n",
      " num_days_late        | -3.022337963                             \n",
      " case_closed          | YES                                      \n",
      " dept_division        | Storm Water                              \n",
      " service_request_type | Removal Of Obstruction                   \n",
      " SLA_days             | 4.320729167                              \n",
      " case_status          | Closed                                   \n",
      " source_id            | svcCRMSS                                 \n",
      " request_address      | 102  PALFREY ST W, San Antonio, 78223    \n",
      " council_district     | 3                                        \n",
      " num_hours_late       | -72.536111112                            \n",
      "-RECORD 3--------------------------------------------------------\n",
      " case_id              | 1014127335                               \n",
      " case_opened_date     | 2018-01-01 01:29:00                      \n",
      " case_closed_date     | 2018-01-02 08:13:00                      \n",
      " SLA_due_date         | 2018-01-17 08:30:00                      \n",
      " case_late            | NO                                       \n",
      " num_days_late        | -15.01148148                             \n",
      " case_closed          | YES                                      \n",
      " dept_division        | Code Enforcement                         \n",
      " service_request_type | Front Or Side Yard Parking               \n",
      " SLA_days             | 16.29188657                              \n",
      " case_status          | Closed                                   \n",
      " source_id            | svcCRMSS                                 \n",
      " request_address      | 114  LA GARDE ST, San Antonio, 78223     \n",
      " council_district     | 3                                        \n",
      " num_hours_late       | -360.27555552                            \n",
      "-RECORD 4--------------------------------------------------------\n",
      " case_id              | 1014127336                               \n",
      " case_opened_date     | 2018-01-01 01:34:00                      \n",
      " case_closed_date     | 2018-01-01 13:29:00                      \n",
      " SLA_due_date         | 2018-01-01 04:34:00                      \n",
      " case_late            | YES                                      \n",
      " num_days_late        | 0.37216435200000003                      \n",
      " case_closed          | YES                                      \n",
      " dept_division        | Field Operations                         \n",
      " service_request_type | Animal Cruelty(Critical)                 \n",
      " SLA_days             | 0.125                                    \n",
      " case_status          | Closed                                   \n",
      " source_id            | svcCRMSS                                 \n",
      " request_address      | 734  CLEARVIEW DR, San Antonio, 78228    \n",
      " council_district     | 7                                        \n",
      " num_hours_late       | 8.931944448000001                        \n",
      "-RECORD 5--------------------------------------------------------\n",
      " case_id              | 1014127337                               \n",
      " case_opened_date     | 2018-01-01 06:28:00                      \n",
      " case_closed_date     | 2018-01-01 14:38:00                      \n",
      " SLA_due_date         | 2018-01-31 08:30:00                      \n",
      " case_late            | NO                                       \n",
      " num_days_late        | -29.74398148                             \n",
      " case_closed          | YES                                      \n",
      " dept_division        | Signals                                  \n",
      " service_request_type | Traffic Signal Ops and Maintenance       \n",
      " SLA_days             | 30.08446759                              \n",
      " case_status          | Closed                                   \n",
      " source_id            | svcCRMSS                                 \n",
      " request_address      | BANDERA RD and BRESNAHAN                 \n",
      " council_district     | 7                                        \n",
      " num_hours_late       | -713.8555555199999                       \n",
      "-RECORD 6--------------------------------------------------------\n",
      " case_id              | 1014127338                               \n",
      " case_opened_date     | 2018-01-01 06:57:00                      \n",
      " case_closed_date     | 2018-01-02 15:32:00                      \n",
      " SLA_due_date         | 2018-01-17 08:30:00                      \n",
      " case_late            | NO                                       \n",
      " num_days_late        | -14.70673611                             \n",
      " case_closed          | YES                                      \n",
      " dept_division        | Code Enforcement                         \n",
      " service_request_type | Front Or Side Yard Parking               \n",
      " SLA_days             | 16.06429398                              \n",
      " case_status          | Closed                                   \n",
      " source_id            | svcCRMSS                                 \n",
      " request_address      | 10133  FIGARO CANYON, San Antonio, 78251 \n",
      " council_district     | 4                                        \n",
      " num_hours_late       | -352.96166664                            \n",
      "-RECORD 7--------------------------------------------------------\n",
      " case_id              | 1014127339                               \n",
      " case_opened_date     | 2018-01-01 06:58:00                      \n",
      " case_closed_date     | 2018-01-02 15:32:00                      \n",
      " SLA_due_date         | 2018-01-17 08:30:00                      \n",
      " case_late            | NO                                       \n",
      " num_days_late        | -14.70662037                             \n",
      " case_closed          | YES                                      \n",
      " dept_division        | Code Enforcement                         \n",
      " service_request_type | Front Or Side Yard Parking               \n",
      " SLA_days             | 16.063796300000003                       \n",
      " case_status          | Closed                                   \n",
      " source_id            | svcCRMSS                                 \n",
      " request_address      | 10133  FIGARO CANYON, San Antonio, 78251 \n",
      " council_district     | 4                                        \n",
      " num_hours_late       | -352.95888888                            \n",
      "-RECORD 8--------------------------------------------------------\n",
      " case_id              | 1014127340                               \n",
      " case_opened_date     | 2018-01-01 06:58:00                      \n",
      " case_closed_date     | 2018-01-02 15:32:00                      \n",
      " SLA_due_date         | 2018-01-17 08:30:00                      \n",
      " case_late            | NO                                       \n",
      " num_days_late        | -14.70662037                             \n",
      " case_closed          | YES                                      \n",
      " dept_division        | Code Enforcement                         \n",
      " service_request_type | Right Of Way/Sidewalk Obstruction        \n",
      " SLA_days             | 16.06333333                              \n",
      " case_status          | Closed                                   \n",
      " source_id            | svcCRMSS                                 \n",
      " request_address      | 10133  FIGARO CANYON, San Antonio, 78251 \n",
      " council_district     | 4                                        \n",
      " num_hours_late       | -352.95888888                            \n",
      "-RECORD 9--------------------------------------------------------\n",
      " case_id              | 1014127341                               \n",
      " case_opened_date     | 2018-01-01 06:59:00                      \n",
      " case_closed_date     | 2018-01-02 15:32:00                      \n",
      " SLA_due_date         | 2018-01-17 08:30:00                      \n",
      " case_late            | NO                                       \n",
      " num_days_late        | -14.70649306                             \n",
      " case_closed          | YES                                      \n",
      " dept_division        | Code Enforcement                         \n",
      " service_request_type | Front Or Side Yard Parking               \n",
      " SLA_days             | 16.0628588                               \n",
      " case_status          | Closed                                   \n",
      " source_id            | svcCRMSS                                 \n",
      " request_address      | 10133  FIGARO CANYON, San Antonio, 78251 \n",
      " council_district     | 4                                        \n",
      " num_hours_late       | -352.95583344                            \n",
      "-RECORD 10-------------------------------------------------------\n",
      " case_id              | 1014127342                               \n",
      " case_opened_date     | 2018-01-01 07:00:00                      \n",
      " case_closed_date     | 2018-01-02 15:32:00                      \n",
      " SLA_due_date         | 2018-01-17 08:30:00                      \n",
      " case_late            | NO                                       \n",
      " num_days_late        | -14.70649306                             \n",
      " case_closed          | YES                                      \n",
      " dept_division        | Code Enforcement                         \n",
      " service_request_type | Front Or Side Yard Parking               \n",
      " SLA_days             | 16.06237269                              \n",
      " case_status          | Closed                                   \n",
      " source_id            | svcCRMSS                                 \n",
      " request_address      | 10133  FIGARO CANYON, San Antonio, 78251 \n",
      " council_district     | 4                                        \n",
      " num_hours_late       | -352.95583344                            \n",
      "-RECORD 11-------------------------------------------------------\n",
      " case_id              | 1014127343                               \n",
      " case_opened_date     | 2018-01-01 07:02:00                      \n",
      " case_closed_date     | 2018-01-02 15:32:00                      \n",
      " SLA_due_date         | 2018-01-17 08:30:00                      \n",
      " case_late            | NO                                       \n",
      " num_days_late        | -14.70636574                             \n",
      " case_closed          | YES                                      \n",
      " dept_division        | Code Enforcement                         \n",
      " service_request_type | Right Of Way/Sidewalk Obstruction        \n",
      " SLA_days             | 16.06104167                              \n",
      " case_status          | Closed                                   \n",
      " source_id            | svcCRMSS                                 \n",
      " request_address      | 10133  FIGARO CANYON, San Antonio, 78251 \n",
      " council_district     | 4                                        \n",
      " num_hours_late       | -352.95277776                            \n",
      "-RECORD 12-------------------------------------------------------\n",
      " case_id              | 1014127344                               \n",
      " case_opened_date     | 2018-01-01 07:02:00                      \n",
      " case_closed_date     | 2018-01-02 15:33:00                      \n",
      " SLA_due_date         | 2018-01-17 08:30:00                      \n",
      " case_late            | NO                                       \n",
      " num_days_late        | -14.70625                                \n",
      " case_closed          | YES                                      \n",
      " dept_division        | Code Enforcement                         \n",
      " service_request_type | Front Or Side Yard Parking               \n",
      " SLA_days             | 16.06059028                              \n",
      " case_status          | Closed                                   \n",
      " source_id            | svcCRMSS                                 \n",
      " request_address      | 10129  BOXING PASS, San Antonio, 78251   \n",
      " council_district     | 4                                        \n",
      " num_hours_late       | -352.95000000000005                      \n",
      "-RECORD 13-------------------------------------------------------\n",
      " case_id              | 1014127345                               \n",
      " case_opened_date     | 2018-01-01 07:03:00                      \n",
      " case_closed_date     | 2018-01-02 15:32:00                      \n",
      " SLA_due_date         | 2018-01-17 08:30:00                      \n",
      " case_late            | NO                                       \n",
      " num_days_late        | -14.70636574                             \n",
      " case_closed          | YES                                      \n",
      " dept_division        | Code Enforcement                         \n",
      " service_request_type | Front Or Side Yard Parking               \n",
      " SLA_days             | 16.06011574                              \n",
      " case_status          | Closed                                   \n",
      " source_id            | svcCRMSS                                 \n",
      " request_address      | 10129  BOXING PASS, San Antonio, 78251   \n",
      " council_district     | 4                                        \n",
      " num_hours_late       | -352.95277776                            \n",
      "-RECORD 14-------------------------------------------------------\n",
      " case_id              | 1014127346                               \n",
      " case_opened_date     | 2018-01-01 07:04:00                      \n",
      " case_closed_date     | 2018-01-02 15:33:00                      \n",
      " SLA_due_date         | 2018-01-17 08:30:00                      \n",
      " case_late            | NO                                       \n",
      " num_days_late        | -14.70623843                             \n",
      " case_closed          | YES                                      \n",
      " dept_division        | Code Enforcement                         \n",
      " service_request_type | Right Of Way/Sidewalk Obstruction        \n",
      " SLA_days             | 16.05953704                              \n",
      " case_status          | Closed                                   \n",
      " source_id            | svcCRMSS                                 \n",
      " request_address      | 10129  BOXING PASS, San Antonio, 78251   \n",
      " council_district     | 4                                        \n",
      " num_hours_late       | -352.94972232000003                      \n",
      "-RECORD 15-------------------------------------------------------\n",
      " case_id              | 1014127347                               \n",
      " case_opened_date     | 2018-01-01 07:04:00                      \n",
      " case_closed_date     | 2018-01-02 15:33:00                      \n",
      " SLA_due_date         | 2018-01-17 08:30:00                      \n",
      " case_late            | NO                                       \n",
      " num_days_late        | -14.705891199999998                      \n",
      " case_closed          | YES                                      \n",
      " dept_division        | Code Enforcement                         \n",
      " service_request_type | Front Or Side Yard Parking               \n",
      " SLA_days             | 16.05907407                              \n",
      " case_status          | Closed                                   \n",
      " source_id            | svcCRMSS                                 \n",
      " request_address      | 834  BARREL POINT, San Antonio, 78251    \n",
      " council_district     | 4                                        \n",
      " num_hours_late       | -352.94138879999997                      \n",
      "-RECORD 16-------------------------------------------------------\n",
      " case_id              | 1014127348                               \n",
      " case_opened_date     | 2018-01-01 07:05:00                      \n",
      " case_closed_date     | 2018-01-02 15:33:00                      \n",
      " SLA_due_date         | 2018-01-17 08:30:00                      \n",
      " case_late            | NO                                       \n",
      " num_days_late        | -14.70600694                             \n",
      " case_closed          | YES                                      \n",
      " dept_division        | Code Enforcement                         \n",
      " service_request_type | Front Or Side Yard Parking               \n",
      " SLA_days             | 16.05864583                              \n",
      " case_status          | Closed                                   \n",
      " source_id            | svcCRMSS                                 \n",
      " request_address      | 834  BARREL POINT, San Antonio, 78251    \n",
      " council_district     | 4                                        \n",
      " num_hours_late       | -352.94416656                            \n",
      "-RECORD 17-------------------------------------------------------\n",
      " case_id              | 1014127349                               \n",
      " case_opened_date     | 2018-01-01 07:06:00                      \n",
      " case_closed_date     | 2018-01-02 15:33:00                      \n",
      " SLA_due_date         | 2018-01-17 08:30:00                      \n",
      " case_late            | NO                                       \n",
      " num_days_late        | -14.70576389                             \n",
      " case_closed          | YES                                      \n",
      " dept_division        | Code Enforcement                         \n",
      " service_request_type | Right Of Way/Sidewalk Obstruction        \n",
      " SLA_days             | 16.05819444                              \n",
      " case_status          | Closed                                   \n",
      " source_id            | svcCRMSS                                 \n",
      " request_address      | 834  BARREL POINT, San Antonio, 78251    \n",
      " council_district     | 4                                        \n",
      " num_hours_late       | -352.93833336                            \n",
      "-RECORD 18-------------------------------------------------------\n",
      " case_id              | 1014127350                               \n",
      " case_opened_date     | 2018-01-01 07:06:00                      \n",
      " case_closed_date     | 2018-01-02 15:33:00                      \n",
      " SLA_due_date         | 2018-01-17 08:30:00                      \n",
      " case_late            | NO                                       \n",
      " num_days_late        | -14.70576389                             \n",
      " case_closed          | YES                                      \n",
      " dept_division        | Code Enforcement                         \n",
      " service_request_type | Front Or Side Yard Parking               \n",
      " SLA_days             | 16.05775463                              \n",
      " case_status          | Closed                                   \n",
      " source_id            | svcCRMSS                                 \n",
      " request_address      | 834  BARREL POINT, San Antonio, 78251    \n",
      " council_district     | 4                                        \n",
      " num_hours_late       | -352.93833336                            \n",
      "-RECORD 19-------------------------------------------------------\n",
      " case_id              | 1014127351                               \n",
      " case_opened_date     | 2018-01-01 07:07:00                      \n",
      " case_closed_date     | 2018-01-02 15:33:00                      \n",
      " SLA_due_date         | 2018-01-17 08:30:00                      \n",
      " case_late            | NO                                       \n",
      " num_days_late        | -14.70564815                             \n",
      " case_closed          | YES                                      \n",
      " dept_division        | Code Enforcement                         \n",
      " service_request_type | Front Or Side Yard Parking               \n",
      " SLA_days             | 16.05733796                              \n",
      " case_status          | Closed                                   \n",
      " source_id            | svcCRMSS                                 \n",
      " request_address      | 834  BARREL POINT, San Antonio, 78251    \n",
      " council_district     | 4                                        \n",
      " num_hours_late       | -352.9355556                             \n",
      "only showing top 20 rows\n",
      "\n"
     ]
    }
   ],
   "source": [
    "case_df.show(vertical=True, truncate=False)"
   ]
  },
  {
   "cell_type": "markdown",
   "id": "cc5127d0",
   "metadata": {},
   "source": [
    "# Join the case data with the source and department data."
   ]
  },
  {
   "cell_type": "code",
   "execution_count": 106,
   "id": "8a56123b",
   "metadata": {
    "scrolled": true
   },
   "outputs": [
    {
     "name": "stdout",
     "output_type": "stream",
     "text": [
      "-RECORD 0--------------------------------------\n",
      " dept_division          | Field Operations     \n",
      " case_id                | 1014127332           \n",
      " case_opened_date       | 2018-01-01 00:42:00  \n",
      " case_closed_date       | 2018-01-01 12:29:00  \n",
      " SLA_due_date           | 2020-09-26 00:42:00  \n",
      " case_late              | NO                   \n",
      " num_days_late          | -998.5087616000001   \n",
      " case_closed            | YES                  \n",
      " service_request_type   | Stray Animal         \n",
      " SLA_days               | 999.0                \n",
      " case_status            | Closed               \n",
      " source_id              | svcCRMLS             \n",
      " request_address        | 2315  EL PASO ST,... \n",
      " council_district       | 5                    \n",
      " standardized_dept_name | Animal Care Services \n",
      " dept_subject_to_SLA    | YES                  \n",
      "-RECORD 1--------------------------------------\n",
      " dept_division          | Storm Water          \n",
      " case_id                | 1014127333           \n",
      " case_opened_date       | 2018-01-01 00:46:00  \n",
      " case_closed_date       | 2018-01-03 08:11:00  \n",
      " SLA_due_date           | 2018-01-05 08:30:00  \n",
      " case_late              | NO                   \n",
      " num_days_late          | -2.0126041669999997  \n",
      " case_closed            | YES                  \n",
      " service_request_type   | Removal Of Obstru... \n",
      " SLA_days               | 4.322222222          \n",
      " case_status            | Closed               \n",
      " source_id              | svcCRMSS             \n",
      " request_address        | 2215  GOLIAD RD, ... \n",
      " council_district       | 3                    \n",
      " standardized_dept_name | Trans & Cap Impro... \n",
      " dept_subject_to_SLA    | YES                  \n",
      "only showing top 2 rows\n",
      "\n"
     ]
    }
   ],
   "source": [
    "test_df = (\n",
    "    sorted_df\n",
    "    .join(dept_df, on =\"dept_division\", how = \"left\")\n",
    "    .drop(test_df.dept_name)\n",
    ")\n",
    "\n",
    "\n",
    "test_df.show(2, vertical=True)"
   ]
  },
  {
   "cell_type": "code",
   "execution_count": 146,
   "id": "38a62a3b",
   "metadata": {},
   "outputs": [
    {
     "name": "stdout",
     "output_type": "stream",
     "text": [
      "-RECORD 0--------------------------------------\n",
      " source_id              | svcCRMLS             \n",
      " dept_division          | Field Operations     \n",
      " case_id                | 1014127332           \n",
      " case_opened_date       | 2018-01-01 00:42:00  \n",
      " case_closed_date       | 2018-01-01 12:29:00  \n",
      " SLA_due_date           | 2020-09-26 00:42:00  \n",
      " case_late              | NO                   \n",
      " num_days_late          | -998.5087616000001   \n",
      " case_closed            | YES                  \n",
      " service_request_type   | Stray Animal         \n",
      " SLA_days               | 999.0                \n",
      " case_status            | Closed               \n",
      " request_address        | 2315  EL PASO ST,... \n",
      " council_district       | 5                    \n",
      " standardized_dept_name | Animal Care Services \n",
      " dept_subject_to_SLA    | YES                  \n",
      " source_username        | svcCRMLS             \n",
      "-RECORD 1--------------------------------------\n",
      " source_id              | svcCRMSS             \n",
      " dept_division          | Storm Water          \n",
      " case_id                | 1014127333           \n",
      " case_opened_date       | 2018-01-01 00:46:00  \n",
      " case_closed_date       | 2018-01-03 08:11:00  \n",
      " SLA_due_date           | 2018-01-05 08:30:00  \n",
      " case_late              | NO                   \n",
      " num_days_late          | -2.0126041669999997  \n",
      " case_closed            | YES                  \n",
      " service_request_type   | Removal Of Obstru... \n",
      " SLA_days               | 4.322222222          \n",
      " case_status            | Closed               \n",
      " request_address        | 2215  GOLIAD RD, ... \n",
      " council_district       | 3                    \n",
      " standardized_dept_name | Trans & Cap Impro... \n",
      " dept_subject_to_SLA    | YES                  \n",
      " source_username        | svcCRMSS             \n",
      "only showing top 2 rows\n",
      "\n"
     ]
    }
   ],
   "source": [
    "answer_df = (\n",
    "    test_df\n",
    "    .join(source_df, on =\"source_id\", how = \"left\")\n",
    ")\n",
    "answer_df.show(2, vertical=True)"
   ]
  },
  {
   "cell_type": "markdown",
   "id": "92bd84c7",
   "metadata": {},
   "source": [
    "# Are there any cases that do not have a request source?"
   ]
  },
  {
   "cell_type": "markdown",
   "id": "1071c0d3",
   "metadata": {},
   "source": [
    "Looks like we have no nulls and every source id column is filled"
   ]
  },
  {
   "cell_type": "code",
   "execution_count": 110,
   "id": "e2066cc6",
   "metadata": {
    "scrolled": true
   },
   "outputs": [
    {
     "name": "stderr",
     "output_type": "stream",
     "text": [
      "\r",
      "[Stage 86:>                                                         (0 + 8) / 8]\r"
     ]
    },
    {
     "name": "stdout",
     "output_type": "stream",
     "text": [
      "-RECORD 0--------------------------------------\n",
      " dept_division          | Streets              \n",
      " case_id                | 1014081882           \n",
      " case_opened_date       | 2017-12-08 12:47:00  \n",
      " case_closed_date       | 2018-04-03 11:37:00  \n",
      " SLA_due_date           | 2018-04-24 12:47:00  \n",
      " case_late              | NO                   \n",
      " num_days_late          | -21.04885417         \n",
      " case_closed            | YES                  \n",
      " service_request_type   | Base/Pavement Repair \n",
      " SLA_days               | 137.0                \n",
      " case_status            | Closed               \n",
      " source_id              | yh24110              \n",
      " request_address        | LOOP 410 SW and R... \n",
      " council_district       | 4                    \n",
      " standardized_dept_name | Trans & Cap Impro... \n",
      " dept_subject_to_SLA    | YES                  \n",
      "-RECORD 1--------------------------------------\n",
      " dept_division          | Storm Water          \n",
      " case_id                | 1014643380           \n",
      " case_opened_date       | 2018-06-28 11:20:00  \n",
      " case_closed_date       | 2018-06-29 09:22:00  \n",
      " SLA_due_date           | 2018-07-03 11:20:00  \n",
      " case_late              | NO                   \n",
      " num_days_late          | -4.081469907         \n",
      " case_closed            | YES                  \n",
      " service_request_type   | Vegetation- Visua... \n",
      " SLA_days               | 5.0                  \n",
      " case_status            | Closed               \n",
      " source_id              | yh24110              \n",
      " request_address        | 3000  FAIRMEADOWS... \n",
      " council_district       | 4                    \n",
      " standardized_dept_name | Trans & Cap Impro... \n",
      " dept_subject_to_SLA    | YES                  \n",
      "only showing top 2 rows\n",
      "\n"
     ]
    },
    {
     "name": "stderr",
     "output_type": "stream",
     "text": [
      "\r",
      "[Stage 86:=======>                                                  (1 + 7) / 8]\r",
      "\r",
      "                                                                                \r"
     ]
    }
   ],
   "source": [
    "test_df.sort(desc('source_id')).show(2, vertical=True)"
   ]
  },
  {
   "cell_type": "code",
   "execution_count": 111,
   "id": "457fe080",
   "metadata": {
    "scrolled": true
   },
   "outputs": [
    {
     "name": "stderr",
     "output_type": "stream",
     "text": [
      "[Stage 88:=======>                                                  (1 + 7) / 8]\r"
     ]
    },
    {
     "name": "stdout",
     "output_type": "stream",
     "text": [
      "-RECORD 0--------------------------------------\n",
      " dept_division          | Code Enforcement     \n",
      " case_id                | 1013983058           \n",
      " case_opened_date       | 2017-10-26 17:14:00  \n",
      " case_closed_date       | 2017-11-20 17:33:00  \n",
      " SLA_due_date           | 2017-11-06 08:30:00  \n",
      " case_late              | YES                  \n",
      " num_days_late          | 14.37762731          \n",
      " case_closed            | YES                  \n",
      " service_request_type   | Permits Building     \n",
      " SLA_days               | 10.63596065          \n",
      " case_status            | Closed               \n",
      " source_id              | 100137               \n",
      " request_address        | 307  JOSEPHINE E,... \n",
      " council_district       | 1                    \n",
      " standardized_dept_name | DSD/Code Enforcement \n",
      " dept_subject_to_SLA    | YES                  \n",
      "-RECORD 1--------------------------------------\n",
      " dept_division          | Waste Collection     \n",
      " case_id                | 1014358088           \n",
      " case_opened_date       | 2018-03-24 12:39:00  \n",
      " case_closed_date       | 2018-04-07 14:15:00  \n",
      " SLA_due_date           | 2018-04-04 08:30:00  \n",
      " case_late              | YES                  \n",
      " num_days_late          | 3.2401736110000003   \n",
      " case_closed            | YES                  \n",
      " service_request_type   | Additional Cart R... \n",
      " SLA_days               | 10.82663194          \n",
      " case_status            | Closed               \n",
      " source_id              | 100137               \n",
      " request_address        | 155  EL RANCHO WA... \n",
      " council_district       | 10                   \n",
      " standardized_dept_name | Solid Waste          \n",
      " dept_subject_to_SLA    | YES                  \n",
      "only showing top 2 rows\n",
      "\n"
     ]
    },
    {
     "name": "stderr",
     "output_type": "stream",
     "text": [
      "\r",
      "[Stage 88:==============>                                           (2 + 6) / 8]\r",
      "\r",
      "                                                                                \r"
     ]
    }
   ],
   "source": [
    "test_df.sort('source_id').show(2, vertical=True)"
   ]
  },
  {
   "cell_type": "code",
   "execution_count": 117,
   "id": "101b43c6",
   "metadata": {},
   "outputs": [
    {
     "name": "stderr",
     "output_type": "stream",
     "text": [
      "                                                                                \r"
     ]
    },
    {
     "name": "stdout",
     "output_type": "stream",
     "text": [
      "(0 rows)\n",
      "\n"
     ]
    }
   ],
   "source": [
    "test_df.filter(col('source_id').isNull()).show(2, vertical=True)"
   ]
  },
  {
   "cell_type": "markdown",
   "id": "860d60fd",
   "metadata": {},
   "source": [
    "# What are the top 10 service request types in terms of number of requests?"
   ]
  },
  {
   "cell_type": "code",
   "execution_count": 127,
   "id": "6be0450b",
   "metadata": {
    "scrolled": true
   },
   "outputs": [
    {
     "name": "stderr",
     "output_type": "stream",
     "text": [
      "\r",
      "[Stage 126:>                                                        (0 + 8) / 8]\r"
     ]
    },
    {
     "name": "stdout",
     "output_type": "stream",
     "text": [
      "-RECORD 0------------------------------------------------\n",
      " service_request_type | No Pickup                        \n",
      " count                | 86855                            \n",
      "-RECORD 1------------------------------------------------\n",
      " service_request_type | Overgrown Yard/Trash             \n",
      " count                | 65895                            \n",
      "-RECORD 2------------------------------------------------\n",
      " service_request_type | Bandit Signs                     \n",
      " count                | 32910                            \n",
      "-RECORD 3------------------------------------------------\n",
      " service_request_type | Damaged Cart                     \n",
      " count                | 30338                            \n",
      "-RECORD 4------------------------------------------------\n",
      " service_request_type | Front Or Side Yard Parking       \n",
      " count                | 28794                            \n",
      "-RECORD 5------------------------------------------------\n",
      " service_request_type | Stray Animal                     \n",
      " count                | 26760                            \n",
      "-RECORD 6------------------------------------------------\n",
      " service_request_type | Aggressive Animal(Non-Critical)  \n",
      " count                | 24882                            \n",
      "-RECORD 7------------------------------------------------\n",
      " service_request_type | Cart Exchange Request            \n",
      " count                | 22024                            \n",
      "-RECORD 8------------------------------------------------\n",
      " service_request_type | Junk Vehicle On Private Property \n",
      " count                | 21473                            \n",
      "-RECORD 9------------------------------------------------\n",
      " service_request_type | Pot Hole Repair                  \n",
      " count                | 20616                            \n",
      "only showing top 10 rows\n",
      "\n"
     ]
    },
    {
     "name": "stderr",
     "output_type": "stream",
     "text": [
      "\r",
      "                                                                                \r"
     ]
    }
   ],
   "source": [
    "test_df.groupby('service_request_type').count().sort(desc('count')).show(10,50,  vertical=True)"
   ]
  },
  {
   "cell_type": "markdown",
   "id": "e26f7382",
   "metadata": {},
   "source": [
    "# What are the top 10 service request types in terms of average days late?"
   ]
  },
  {
   "cell_type": "code",
   "execution_count": 133,
   "id": "6f6bba20",
   "metadata": {
    "scrolled": true
   },
   "outputs": [
    {
     "name": "stderr",
     "output_type": "stream",
     "text": [
      "\r",
      "[Stage 144:>                                                        (0 + 8) / 8]\r"
     ]
    },
    {
     "name": "stdout",
     "output_type": "stream",
     "text": [
      "-RECORD 0------------------------------------------------------\n",
      " service_request_type | Zoning: Junk Yards                     \n",
      " avg(num_days_late)   | 175.95636210420943                     \n",
      "-RECORD 1------------------------------------------------------\n",
      " service_request_type | Labeling for Used Mattress             \n",
      " avg(num_days_late)   | 162.43032902285717                     \n",
      "-RECORD 2------------------------------------------------------\n",
      " service_request_type | Record Keeping of Used Mattresses      \n",
      " avg(num_days_late)   | 153.99724039428568                     \n",
      "-RECORD 3------------------------------------------------------\n",
      " service_request_type | Signage Requied for Sale of Used Mattr \n",
      " avg(num_days_late)   | 151.63868055333333                     \n",
      "-RECORD 4------------------------------------------------------\n",
      " service_request_type | Storage of Used Mattress               \n",
      " avg(num_days_late)   | 142.11255641500003                     \n",
      "-RECORD 5------------------------------------------------------\n",
      " service_request_type | Zoning: Recycle Yard                   \n",
      " avg(num_days_late)   | 135.92851612479797                     \n",
      "-RECORD 6------------------------------------------------------\n",
      " service_request_type | Donation Container Enforcement         \n",
      " avg(num_days_late)   | 131.75610506358706                     \n",
      "-RECORD 7------------------------------------------------------\n",
      " service_request_type | License Requied Used Mattress Sales    \n",
      " avg(num_days_late)   | 128.79828704142858                     \n",
      "-RECORD 8------------------------------------------------------\n",
      " service_request_type | Traffic Signal Graffiti                \n",
      " avg(num_days_late)   | 77.90021217000002                      \n",
      "-RECORD 9------------------------------------------------------\n",
      " service_request_type | Complaint                              \n",
      " avg(num_days_late)   | 72.5179093265971                       \n",
      "only showing top 10 rows\n",
      "\n"
     ]
    },
    {
     "name": "stderr",
     "output_type": "stream",
     "text": [
      "\r",
      "                                                                                \r"
     ]
    }
   ],
   "source": [
    "test_df.groupby('service_request_type').avg('num_days_late').sort(desc('avg(num_days_late)')).show(10,50,  vertical=True)"
   ]
  },
  {
   "cell_type": "markdown",
   "id": "981e605a",
   "metadata": {},
   "source": [
    "# Does number of days late depend on department?"
   ]
  },
  {
   "cell_type": "markdown",
   "id": "f7362cd9",
   "metadata": {},
   "source": [
    "yes"
   ]
  },
  {
   "cell_type": "code",
   "execution_count": 150,
   "id": "bdb019a7",
   "metadata": {
    "scrolled": true
   },
   "outputs": [
    {
     "name": "stderr",
     "output_type": "stream",
     "text": [
      "\r",
      "[Stage 190:>                                                        (0 + 8) / 8]\r"
     ]
    },
    {
     "name": "stdout",
     "output_type": "stream",
     "text": [
      "-RECORD 0----------------------------------\n",
      " dept_division      | Miscellaneous        \n",
      " avg(num_days_late) | -1.7233942611909219  \n",
      "-RECORD 1----------------------------------\n",
      " dept_division      | Solid Waste          \n",
      " avg(num_days_late) | 3.541793412154981    \n",
      "-RECORD 2----------------------------------\n",
      " dept_division      | Field Operations     \n",
      " avg(num_days_late) | -226.1654977071745   \n",
      "-RECORD 3----------------------------------\n",
      " dept_division      | Streets              \n",
      " avg(num_days_late) | -23.829909905293455  \n",
      "-RECORD 4----------------------------------\n",
      " dept_division      | Waste Collection     \n",
      " avg(num_days_late) | -2.162176598886006   \n",
      "-RECORD 5----------------------------------\n",
      " dept_division      | Code Enforcement ... \n",
      " avg(num_days_late) | -44.46861194686386   \n",
      "-RECORD 6----------------------------------\n",
      " dept_division      | Vector               \n",
      " avg(num_days_late) | -1.1180635370092935  \n",
      "-RECORD 7----------------------------------\n",
      " dept_division      | Dangerous Premise    \n",
      " avg(num_days_late) | -42.168886421493234  \n",
      "-RECORD 8----------------------------------\n",
      " dept_division      | 311 Call Center      \n",
      " avg(num_days_late) | 59.49019459221512    \n",
      "-RECORD 9----------------------------------\n",
      " dept_division      | Brush                \n",
      " avg(num_days_late) | -3.989870535228564   \n",
      "-RECORD 10---------------------------------\n",
      " dept_division      | Dangerous Premise... \n",
      " avg(num_days_late) | -43.208290572694445  \n",
      "-RECORD 11---------------------------------\n",
      " dept_division      | Traffic Engineeri... \n",
      " avg(num_days_late) | -33.44606235024044   \n",
      "-RECORD 12---------------------------------\n",
      " dept_division      | Code Enforcement ... \n",
      " avg(num_days_late) | 135.92851612479797   \n",
      "-RECORD 13---------------------------------\n",
      " dept_division      | District 2           \n",
      " avg(num_days_late) | null                 \n",
      "-RECORD 14---------------------------------\n",
      " dept_division      | Signals              \n",
      " avg(num_days_late) | -28.730773391078753  \n",
      "-RECORD 15---------------------------------\n",
      " dept_division      | Engineering Division \n",
      " avg(num_days_late) | 13.148054014077815   \n",
      "-RECORD 16---------------------------------\n",
      " dept_division      | Director's Office... \n",
      " avg(num_days_late) | 36.87389387687182    \n",
      "-RECORD 17---------------------------------\n",
      " dept_division      | Storm Water          \n",
      " avg(num_days_late) | -14.053415154638676  \n",
      "-RECORD 18---------------------------------\n",
      " dept_division      | Shops                \n",
      " avg(num_days_late) | 10.114974371919642   \n",
      "-RECORD 19---------------------------------\n",
      " dept_division      | Storm Water Engin... \n",
      " avg(num_days_late) | -15.075511976006073  \n",
      "only showing top 20 rows\n",
      "\n"
     ]
    },
    {
     "name": "stderr",
     "output_type": "stream",
     "text": [
      "\r",
      "                                                                                \r"
     ]
    }
   ],
   "source": [
    "test_df.groupby('dept_division').avg('num_days_late').show( vertical=True)"
   ]
  },
  {
   "cell_type": "markdown",
   "id": "a33769c0",
   "metadata": {},
   "source": [
    "# How do number of days late depend on department and request type?"
   ]
  },
  {
   "cell_type": "markdown",
   "id": "dfe1c095",
   "metadata": {},
   "source": [
    "depending on the dept_division and the service type requested there will be more or less avg number of days late"
   ]
  },
  {
   "cell_type": "code",
   "execution_count": 151,
   "id": "94e12058",
   "metadata": {
    "scrolled": true
   },
   "outputs": [
    {
     "name": "stderr",
     "output_type": "stream",
     "text": [
      "\r",
      "[Stage 194:>                                                        (0 + 8) / 8]\r"
     ]
    },
    {
     "name": "stdout",
     "output_type": "stream",
     "text": [
      "-RECORD 0------------------------------------\n",
      " dept_division        | Code Enforcement     \n",
      " service_request_type | Overgrown Yard/Trash \n",
      " avg(num_days_late)   | -46.3301358535213    \n",
      "-RECORD 1------------------------------------\n",
      " dept_division        | Shops (Internal)     \n",
      " service_request_type | Major Park Improv... \n",
      " avg(num_days_late)   | -280.2546235360405   \n",
      "-RECORD 2------------------------------------\n",
      " dept_division        | Traffic Engineeri... \n",
      " service_request_type | Flashing Beacon N... \n",
      " avg(num_days_late)   | -68.19004095633333   \n",
      "-RECORD 3------------------------------------\n",
      " dept_division        | Shops (Internal)     \n",
      " service_request_type | Playgrounds          \n",
      " avg(num_days_late)   | -6.624961567266342   \n",
      "-RECORD 4------------------------------------\n",
      " dept_division        | Traffic Engineeri... \n",
      " service_request_type | Parking Issue        \n",
      " avg(num_days_late)   | -15.160798689836735  \n",
      "-RECORD 5------------------------------------\n",
      " dept_division        | Code Enforcement     \n",
      " service_request_type | Permits, Fences      \n",
      " avg(num_days_late)   | -14.588871878940195  \n",
      "-RECORD 6------------------------------------\n",
      " dept_division        | Waste Collection     \n",
      " service_request_type | Organics Info / L... \n",
      " avg(num_days_late)   | 14.135499819818946   \n",
      "-RECORD 7------------------------------------\n",
      " dept_division        | Streets              \n",
      " service_request_type | Rebarb Sticking Out  \n",
      " avg(num_days_late)   | -0.40974206341428576 \n",
      "-RECORD 8------------------------------------\n",
      " dept_division        | Code Enforcement     \n",
      " service_request_type | Used/Scrap Tire F... \n",
      " avg(num_days_late)   | -71.23635577898261   \n",
      "-RECORD 9------------------------------------\n",
      " dept_division        | Signals              \n",
      " service_request_type | Signal Timing Mod... \n",
      " avg(num_days_late)   | -80.20183653341978   \n",
      "-RECORD 10-----------------------------------\n",
      " dept_division        | Food Establishments  \n",
      " service_request_type | Food Poisoning       \n",
      " avg(num_days_late)   | -7.740377558859376   \n",
      "-RECORD 11-----------------------------------\n",
      " dept_division        | Code Enforcement     \n",
      " service_request_type | Temporary Obstruc... \n",
      " avg(num_days_late)   | -119.75801638405592  \n",
      "-RECORD 12-----------------------------------\n",
      " dept_division        | Field Operations     \n",
      " service_request_type | Aggressive Animal... \n",
      " avg(num_days_late)   | 2.6421589764662423   \n",
      "-RECORD 13-----------------------------------\n",
      " dept_division        | 311 Call Center      \n",
      " service_request_type | Complaint            \n",
      " avg(num_days_late)   | 72.5179093265971     \n",
      "-RECORD 14-----------------------------------\n",
      " dept_division        | Field Operations     \n",
      " service_request_type | City Council Anim... \n",
      " avg(num_days_late)   | -1.5475013634821913  \n",
      "-RECORD 15-----------------------------------\n",
      " dept_division        | Traffic Engineeri... \n",
      " service_request_type | Speed Hump Request   \n",
      " avg(num_days_late)   | -13.910156654139534  \n",
      "-RECORD 16-----------------------------------\n",
      " dept_division        | Code Enforcement ... \n",
      " service_request_type | Right Of Way/Side... \n",
      " avg(num_days_late)   | -10.661805029454545  \n",
      "-RECORD 17-----------------------------------\n",
      " dept_division        | Field Operations     \n",
      " service_request_type | Animal Cruelty(Cr... \n",
      " avg(num_days_late)   | -0.06217189949400201 \n",
      "-RECORD 18-----------------------------------\n",
      " dept_division        | Code Enforcement     \n",
      " service_request_type | Brush Violations     \n",
      " avg(num_days_late)   | -56.70569233571444   \n",
      "-RECORD 19-----------------------------------\n",
      " dept_division        | Shops (Internal)     \n",
      " service_request_type | Graffiti Int         \n",
      " avg(num_days_late)   | -0.7482359768503272  \n",
      "only showing top 20 rows\n",
      "\n"
     ]
    },
    {
     "name": "stderr",
     "output_type": "stream",
     "text": [
      "\r",
      "                                                                                \r"
     ]
    }
   ],
   "source": [
    "test_df.groupby('dept_division','service_request_type').avg('num_days_late').show(vertical=True)"
   ]
  }
 ],
 "metadata": {
  "kernelspec": {
   "display_name": "Python 3 (ipykernel)",
   "language": "python",
   "name": "python3"
  },
  "language_info": {
   "codemirror_mode": {
    "name": "ipython",
    "version": 3
   },
   "file_extension": ".py",
   "mimetype": "text/x-python",
   "name": "python",
   "nbconvert_exporter": "python",
   "pygments_lexer": "ipython3",
   "version": "3.9.16"
  }
 },
 "nbformat": 4,
 "nbformat_minor": 5
}
