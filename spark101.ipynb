{
 "cells": [
  {
   "cell_type": "markdown",
   "id": "a836382e",
   "metadata": {},
   "source": [
    "# Create a spark data frame that contains your favorite programming languages."
   ]
  },
  {
   "cell_type": "code",
   "execution_count": 209,
   "id": "312aaa64",
   "metadata": {},
   "outputs": [],
   "source": [
    "import pyspark\n",
    "import pandas as pd\n",
    "import numpy as np\n",
    "from pydataset import data\n",
    "from pyspark.sql.functions import when\n",
    "from pyspark.sql.functions import col\n",
    "from pyspark.sql.functions import min, max, sum, count, mean, avg\n",
    "from vega_datasets import data\n",
    "from pyspark.sql.functions import month, year, quarter, round"
   ]
  },
  {
   "cell_type": "code",
   "execution_count": 8,
   "id": "edc6ff83",
   "metadata": {},
   "outputs": [
    {
     "name": "stderr",
     "output_type": "stream",
     "text": [
      "Setting default log level to \"WARN\".\n",
      "To adjust logging level use sc.setLogLevel(newLevel). For SparkR, use setLogLevel(newLevel).\n",
      "23/06/30 13:45:26 WARN NativeCodeLoader: Unable to load native-hadoop library for your platform... using builtin-java classes where applicable\n"
     ]
    }
   ],
   "source": [
    "spark = pyspark.sql.SparkSession.builder.getOrCreate()"
   ]
  },
  {
   "cell_type": "code",
   "execution_count": 15,
   "id": "0c4c7a42",
   "metadata": {},
   "outputs": [
    {
     "name": "stdout",
     "output_type": "stream",
     "text": [
      "+----------+\n",
      "|  Language|\n",
      "+----------+\n",
      "|    Python|\n",
      "|      Java|\n",
      "|Javascript|\n",
      "|      HTML|\n",
      "|     Spark|\n",
      "+----------+\n",
      "\n"
     ]
    }
   ],
   "source": [
    "the_dict = {'Language': ['Python', 'Java', 'Javascript', 'HTML', 'Spark']}\n",
    "pandas_dataframe = pd.DataFrame(the_dict)\n",
    "df = spark.createDataFrame(pandas_dataframe)\n",
    "df.show()"
   ]
  },
  {
   "cell_type": "markdown",
   "id": "eb7f7ee8",
   "metadata": {},
   "source": [
    "# View the schema of the dataframe"
   ]
  },
  {
   "cell_type": "code",
   "execution_count": 12,
   "id": "29dc39f6",
   "metadata": {},
   "outputs": [
    {
     "name": "stdout",
     "output_type": "stream",
     "text": [
      "root\n",
      " |-- Languages: string (nullable = true)\n",
      "\n"
     ]
    }
   ],
   "source": [
    "df.printSchema()"
   ]
  },
  {
   "cell_type": "markdown",
   "id": "759ee6e8",
   "metadata": {},
   "source": [
    "# Output the shape of the dataframe"
   ]
  },
  {
   "cell_type": "code",
   "execution_count": 14,
   "id": "31f2801e",
   "metadata": {},
   "outputs": [
    {
     "data": {
      "text/plain": [
       "(4, 1)"
      ]
     },
     "execution_count": 14,
     "metadata": {},
     "output_type": "execute_result"
    }
   ],
   "source": [
    "df.count(), len(df.columns)"
   ]
  },
  {
   "cell_type": "markdown",
   "id": "e92a28b6",
   "metadata": {},
   "source": [
    "Show the first 5 records in the dataframe"
   ]
  },
  {
   "cell_type": "code",
   "execution_count": 19,
   "id": "5107f9cb",
   "metadata": {},
   "outputs": [
    {
     "name": "stdout",
     "output_type": "stream",
     "text": [
      "+----------+\n",
      "|  Language|\n",
      "+----------+\n",
      "|    Python|\n",
      "|      Java|\n",
      "|Javascript|\n",
      "|      HTML|\n",
      "|     Spark|\n",
      "+----------+\n",
      "\n"
     ]
    }
   ],
   "source": [
    "df.show(5)"
   ]
  },
  {
   "cell_type": "markdown",
   "id": "a5be297b",
   "metadata": {},
   "source": [
    "# Load the mpg dataset as a spark dataframe."
   ]
  },
  {
   "cell_type": "code",
   "execution_count": 139,
   "id": "0662fbf4",
   "metadata": {},
   "outputs": [
    {
     "name": "stdout",
     "output_type": "stream",
     "text": [
      "+------------+-----+-----+----+---+----------+---+---+---+---+-------+\n",
      "|manufacturer|model|displ|year|cyl|     trans|drv|cty|hwy| fl|  class|\n",
      "+------------+-----+-----+----+---+----------+---+---+---+---+-------+\n",
      "|        audi|   a4|  1.8|1999|  4|  auto(l5)|  f| 18| 29|  p|compact|\n",
      "|        audi|   a4|  1.8|1999|  4|manual(m5)|  f| 21| 29|  p|compact|\n",
      "|        audi|   a4|  2.0|2008|  4|manual(m6)|  f| 20| 31|  p|compact|\n",
      "|        audi|   a4|  2.0|2008|  4|  auto(av)|  f| 21| 30|  p|compact|\n",
      "|        audi|   a4|  2.8|1999|  6|  auto(l5)|  f| 16| 26|  p|compact|\n",
      "+------------+-----+-----+----+---+----------+---+---+---+---+-------+\n",
      "only showing top 5 rows\n",
      "\n"
     ]
    }
   ],
   "source": [
    "df = spark.createDataFrame(data('mpg'))\n",
    "df.show(5)"
   ]
  },
  {
   "cell_type": "markdown",
   "id": "56321e1e",
   "metadata": {},
   "source": [
    "# Create 1 column of output that contains a message like the one below:"
   ]
  },
  {
   "cell_type": "markdown",
   "id": "cac5fde8",
   "metadata": {},
   "source": [
    "The 1999 audi a4 has a 4 cylinder engine."
   ]
  },
  {
   "cell_type": "code",
   "execution_count": 64,
   "id": "6dda4dcd",
   "metadata": {},
   "outputs": [],
   "source": [
    "year = df.collect()[2]['year']"
   ]
  },
  {
   "cell_type": "code",
   "execution_count": 65,
   "id": "8adda1cb",
   "metadata": {},
   "outputs": [],
   "source": [
    "audi = df.collect()[2]['manufacturer']"
   ]
  },
  {
   "cell_type": "code",
   "execution_count": 70,
   "id": "6017cdd6",
   "metadata": {},
   "outputs": [],
   "source": [
    "cyl = df.collect()[2]['cyl']"
   ]
  },
  {
   "cell_type": "code",
   "execution_count": 72,
   "id": "4a68e01f",
   "metadata": {},
   "outputs": [
    {
     "name": "stdout",
     "output_type": "stream",
     "text": [
      "The 2008 audi has a 4 cylinder engine\n"
     ]
    }
   ],
   "source": [
    "print('The', year, audi, 'has a',  cyl, 'cylinder engine')"
   ]
  },
  {
   "cell_type": "markdown",
   "id": "d7c5f7b8",
   "metadata": {},
   "source": [
    "# Transform the trans column so that it only contains either manual or auto."
   ]
  },
  {
   "cell_type": "code",
   "execution_count": 141,
   "id": "c3b70bc6",
   "metadata": {},
   "outputs": [],
   "source": [
    "df = df.withColumn(\n",
    "    'trans',\n",
    "    when(df.trans.contains('manual'), 'maunual').when(df.trans.contains('auto'), 'auto').alias('trans')\n",
    "    \n",
    ")"
   ]
  },
  {
   "cell_type": "code",
   "execution_count": 142,
   "id": "bfb4e1e3",
   "metadata": {
    "scrolled": true
   },
   "outputs": [
    {
     "name": "stdout",
     "output_type": "stream",
     "text": [
      "+------------+------------------+-----+----+---+-------+---+---+---+---+-------+\n",
      "|manufacturer|             model|displ|year|cyl|  trans|drv|cty|hwy| fl|  class|\n",
      "+------------+------------------+-----+----+---+-------+---+---+---+---+-------+\n",
      "|        audi|                a4|  1.8|1999|  4|   auto|  f| 18| 29|  p|compact|\n",
      "|        audi|                a4|  1.8|1999|  4|maunual|  f| 21| 29|  p|compact|\n",
      "|        audi|                a4|  2.0|2008|  4|maunual|  f| 20| 31|  p|compact|\n",
      "|        audi|                a4|  2.0|2008|  4|   auto|  f| 21| 30|  p|compact|\n",
      "|        audi|                a4|  2.8|1999|  6|   auto|  f| 16| 26|  p|compact|\n",
      "|        audi|                a4|  2.8|1999|  6|maunual|  f| 18| 26|  p|compact|\n",
      "|        audi|                a4|  3.1|2008|  6|   auto|  f| 18| 27|  p|compact|\n",
      "|        audi|        a4 quattro|  1.8|1999|  4|maunual|  4| 18| 26|  p|compact|\n",
      "|        audi|        a4 quattro|  1.8|1999|  4|   auto|  4| 16| 25|  p|compact|\n",
      "|        audi|        a4 quattro|  2.0|2008|  4|maunual|  4| 20| 28|  p|compact|\n",
      "|        audi|        a4 quattro|  2.0|2008|  4|   auto|  4| 19| 27|  p|compact|\n",
      "|        audi|        a4 quattro|  2.8|1999|  6|   auto|  4| 15| 25|  p|compact|\n",
      "|        audi|        a4 quattro|  2.8|1999|  6|maunual|  4| 17| 25|  p|compact|\n",
      "|        audi|        a4 quattro|  3.1|2008|  6|   auto|  4| 17| 25|  p|compact|\n",
      "|        audi|        a4 quattro|  3.1|2008|  6|maunual|  4| 15| 25|  p|compact|\n",
      "|        audi|        a6 quattro|  2.8|1999|  6|   auto|  4| 15| 24|  p|midsize|\n",
      "|        audi|        a6 quattro|  3.1|2008|  6|   auto|  4| 17| 25|  p|midsize|\n",
      "|        audi|        a6 quattro|  4.2|2008|  8|   auto|  4| 16| 23|  p|midsize|\n",
      "|   chevrolet|c1500 suburban 2wd|  5.3|2008|  8|   auto|  r| 14| 20|  r|    suv|\n",
      "|   chevrolet|c1500 suburban 2wd|  5.3|2008|  8|   auto|  r| 11| 15|  e|    suv|\n",
      "+------------+------------------+-----+----+---+-------+---+---+---+---+-------+\n",
      "only showing top 20 rows\n",
      "\n"
     ]
    }
   ],
   "source": [
    "df.show()"
   ]
  },
  {
   "cell_type": "markdown",
   "id": "1a2534fd",
   "metadata": {},
   "source": [
    "# Load the tips dataset as a spark dataframe."
   ]
  },
  {
   "cell_type": "code",
   "execution_count": 143,
   "id": "ee7c2ff5",
   "metadata": {},
   "outputs": [
    {
     "name": "stdout",
     "output_type": "stream",
     "text": [
      "+----------+----+------+------+---+------+----+\n",
      "|total_bill| tip|   sex|smoker|day|  time|size|\n",
      "+----------+----+------+------+---+------+----+\n",
      "|     16.99|1.01|Female|    No|Sun|Dinner|   2|\n",
      "|     10.34|1.66|  Male|    No|Sun|Dinner|   3|\n",
      "|     21.01| 3.5|  Male|    No|Sun|Dinner|   3|\n",
      "|     23.68|3.31|  Male|    No|Sun|Dinner|   2|\n",
      "|     24.59|3.61|Female|    No|Sun|Dinner|   4|\n",
      "+----------+----+------+------+---+------+----+\n",
      "only showing top 5 rows\n",
      "\n"
     ]
    }
   ],
   "source": [
    "df = spark.createDataFrame(data('tips'))\n",
    "df.show(5)"
   ]
  },
  {
   "cell_type": "markdown",
   "id": "1f213914",
   "metadata": {},
   "source": [
    "# What percentage of observations are smokers?"
   ]
  },
  {
   "cell_type": "code",
   "execution_count": 156,
   "id": "742ae94f",
   "metadata": {},
   "outputs": [
    {
     "data": {
      "text/plain": [
       "151"
      ]
     },
     "execution_count": 156,
     "metadata": {},
     "output_type": "execute_result"
    }
   ],
   "source": [
    "no = df[df.smoker == 'No'].count()\n",
    "no"
   ]
  },
  {
   "cell_type": "code",
   "execution_count": 157,
   "id": "0c83657f",
   "metadata": {},
   "outputs": [
    {
     "data": {
      "text/plain": [
       "93"
      ]
     },
     "execution_count": 157,
     "metadata": {},
     "output_type": "execute_result"
    }
   ],
   "source": [
    "yes = df[df.smoker == 'Yes'].count()\n",
    "yes"
   ]
  },
  {
   "cell_type": "code",
   "execution_count": 162,
   "id": "b1e88f67",
   "metadata": {},
   "outputs": [
    {
     "data": {
      "text/plain": [
       "38.11"
      ]
     },
     "execution_count": 162,
     "metadata": {},
     "output_type": "execute_result"
    }
   ],
   "source": [
    "round((yes * 100) / (no + yes), 2)"
   ]
  },
  {
   "cell_type": "markdown",
   "id": "4a3f7573",
   "metadata": {},
   "source": [
    "# Create a column that contains the tip percentage"
   ]
  },
  {
   "cell_type": "code",
   "execution_count": 193,
   "id": "38739ff8",
   "metadata": {},
   "outputs": [],
   "source": [
    "df =df.withColumn(\n",
    "    'tip percentage',\n",
    "    (col('tip') / (col('total_bill') + col('tip')))\n",
    ")"
   ]
  },
  {
   "cell_type": "markdown",
   "id": "cad70bce",
   "metadata": {},
   "source": [
    "# Calculate the average tip percentage for each combination of sex and smoker."
   ]
  },
  {
   "cell_type": "code",
   "execution_count": 194,
   "id": "6fef9d03",
   "metadata": {},
   "outputs": [
    {
     "name": "stderr",
     "output_type": "stream",
     "text": [
      "\r",
      "[Stage 105:>                                                        (0 + 8) / 8]\r"
     ]
    },
    {
     "name": "stdout",
     "output_type": "stream",
     "text": [
      "+------+------+-------------------+\n",
      "|smoker|   sex|avg(tip percentage)|\n",
      "+------+------+-------------------+\n",
      "|    No|Female|0.13478283982479486|\n",
      "|    No|  Male| 0.1373304244367829|\n",
      "|   Yes|  Male|0.12833233983883358|\n",
      "|   Yes|Female| 0.1512197715202941|\n",
      "+------+------+-------------------+\n",
      "\n"
     ]
    },
    {
     "name": "stderr",
     "output_type": "stream",
     "text": [
      "\r",
      "                                                                                \r"
     ]
    }
   ],
   "source": [
    "df.groupBy(df.smoker, df.sex).agg(mean(df['tip percentage'])).show()"
   ]
  },
  {
   "cell_type": "markdown",
   "id": "07feaf0e",
   "metadata": {},
   "source": [
    "# Use the seattle weather dataset referenced in the lesson to answer the questions below."
   ]
  },
  {
   "cell_type": "code",
   "execution_count": 290,
   "id": "1dce7b5f",
   "metadata": {},
   "outputs": [
    {
     "name": "stdout",
     "output_type": "stream",
     "text": [
      "+----------+-------------+--------+--------+----+-------+\n",
      "|      date|precipitation|temp_max|temp_min|wind|weather|\n",
      "+----------+-------------+--------+--------+----+-------+\n",
      "|2012-01-01|          0.0|    12.8|     5.0| 4.7|drizzle|\n",
      "|2012-01-02|         10.9|    10.6|     2.8| 4.5|   rain|\n",
      "|2012-01-03|          0.8|    11.7|     7.2| 2.3|   rain|\n",
      "|2012-01-04|         20.3|    12.2|     5.6| 4.7|   rain|\n",
      "|2012-01-05|          1.3|     8.9|     2.8| 6.1|   rain|\n",
      "|2012-01-06|          2.5|     4.4|     2.2| 2.2|   rain|\n",
      "+----------+-------------+--------+--------+----+-------+\n",
      "only showing top 6 rows\n",
      "\n"
     ]
    }
   ],
   "source": [
    "weather = data.seattle_weather().assign(date=lambda df: df.date.astype(str))\n",
    "weather = spark.createDataFrame(weather)\n",
    "weather.show(6)"
   ]
  },
  {
   "cell_type": "markdown",
   "id": "0d4ac076",
   "metadata": {},
   "source": [
    "# Convert the temperatures to fahrenheit"
   ]
  },
  {
   "cell_type": "code",
   "execution_count": 216,
   "id": "33a3a1f4",
   "metadata": {
    "scrolled": true
   },
   "outputs": [],
   "source": [
    "weather = weather.withColumn(\n",
    "    'temp_max',\n",
    "    ((col('temp_max') * 9/5) + 32)\n",
    ")"
   ]
  },
  {
   "cell_type": "code",
   "execution_count": 215,
   "id": "2b20b4a7",
   "metadata": {},
   "outputs": [
    {
     "name": "stdout",
     "output_type": "stream",
     "text": [
      "+----------+-------------+--------+--------+----+-------+\n",
      "|      date|precipitation|temp_max|temp_min|wind|weather|\n",
      "+----------+-------------+--------+--------+----+-------+\n",
      "|2012-01-01|          0.0|    12.8|    41.0| 4.7|drizzle|\n",
      "|2012-01-02|         10.9|    10.6|   37.04| 4.5|   rain|\n",
      "|2012-01-03|          0.8|    11.7|   44.96| 2.3|   rain|\n",
      "|2012-01-04|         20.3|    12.2|   42.08| 4.7|   rain|\n",
      "|2012-01-05|          1.3|     8.9|   37.04| 6.1|   rain|\n",
      "|2012-01-06|          2.5|     4.4|   35.96| 2.2|   rain|\n",
      "+----------+-------------+--------+--------+----+-------+\n",
      "only showing top 6 rows\n",
      "\n"
     ]
    }
   ],
   "source": [
    "weather = weather.withColumn(\n",
    "    'temp_min',\n",
    "    ((col('temp_min') * 9/5) + 32)\n",
    ")\n",
    "weather.show(6)"
   ]
  },
  {
   "cell_type": "markdown",
   "id": "ddf7bd44",
   "metadata": {},
   "source": [
    "# Which month has the most rain, on average?"
   ]
  },
  {
   "cell_type": "markdown",
   "id": "c39bdc44",
   "metadata": {},
   "source": [
    "# november"
   ]
  },
  {
   "cell_type": "code",
   "execution_count": 228,
   "id": "90b46416",
   "metadata": {},
   "outputs": [
    {
     "name": "stderr",
     "output_type": "stream",
     "text": [
      "\r",
      "[Stage 142:>                                                        (0 + 8) / 8]\r"
     ]
    },
    {
     "name": "stdout",
     "output_type": "stream",
     "text": [
      "+--------+---------+\n",
      "|themonth|mean_rain|\n",
      "+--------+---------+\n",
      "|       7|     0.39|\n",
      "|       6|     1.11|\n",
      "|       8|     1.32|\n",
      "|       5|     1.67|\n",
      "|       9|     1.96|\n",
      "|       4|     3.13|\n",
      "|       2|     3.73|\n",
      "|       1|     3.76|\n",
      "|      10|     4.06|\n",
      "|       3|     4.89|\n",
      "|      12|     5.02|\n",
      "|      11|     5.35|\n",
      "+--------+---------+\n",
      "\n"
     ]
    },
    {
     "name": "stderr",
     "output_type": "stream",
     "text": [
      "\r",
      "                                                                                \r"
     ]
    }
   ],
   "source": [
    "(\n",
    "    weather.withColumn('themonth', month('date'))\n",
    "    .groupby('themonth')\n",
    "    .agg(round(mean('precipitation'), 2).alias('mean_rain'))\n",
    "    .sort('mean_rain')\n",
    ").show()"
   ]
  },
  {
   "cell_type": "markdown",
   "id": "7ecebce9",
   "metadata": {},
   "source": [
    "# Which year was the windiest?"
   ]
  },
  {
   "cell_type": "markdown",
   "id": "bc5aff7c",
   "metadata": {},
   "source": [
    "# 2012"
   ]
  },
  {
   "cell_type": "code",
   "execution_count": 229,
   "id": "e1d139a7",
   "metadata": {},
   "outputs": [
    {
     "name": "stdout",
     "output_type": "stream",
     "text": [
      "+-------+---------+\n",
      "|theyear|mean_wind|\n",
      "+-------+---------+\n",
      "|   2013|     3.02|\n",
      "|   2015|     3.16|\n",
      "|   2014|     3.39|\n",
      "|   2012|      3.4|\n",
      "+-------+---------+\n",
      "\n"
     ]
    }
   ],
   "source": [
    "(\n",
    "    weather.withColumn('theyear', year('date'))\n",
    "    .groupby('theyear')\n",
    "    .agg(round(mean('wind'), 2).alias('mean_wind'))\n",
    "    .sort('mean_wind')\n",
    ").show()"
   ]
  },
  {
   "cell_type": "markdown",
   "id": "e6b47d5f",
   "metadata": {},
   "source": [
    "# What is the most frequent type of weather in January?"
   ]
  },
  {
   "cell_type": "markdown",
   "id": "898b7bcb",
   "metadata": {},
   "source": [
    "# sun"
   ]
  },
  {
   "cell_type": "code",
   "execution_count": 293,
   "id": "457689a5",
   "metadata": {},
   "outputs": [],
   "source": [
    "weather = weather.withColumn('themonth', month('date'))"
   ]
  },
  {
   "cell_type": "code",
   "execution_count": 247,
   "id": "eb327445",
   "metadata": {
    "scrolled": true
   },
   "outputs": [
    {
     "name": "stdout",
     "output_type": "stream",
     "text": [
      "+----------+-------------+--------+--------+----+-------+--------+\n",
      "|      date|precipitation|temp_max|temp_min|wind|weather|themonth|\n",
      "+----------+-------------+--------+--------+----+-------+--------+\n",
      "|2012-01-01|          0.0|    12.8|     5.0| 4.7|drizzle|       1|\n",
      "|2012-01-02|         10.9|    10.6|     2.8| 4.5|   rain|       1|\n",
      "|2012-01-03|          0.8|    11.7|     7.2| 2.3|   rain|       1|\n",
      "|2012-01-04|         20.3|    12.2|     5.6| 4.7|   rain|       1|\n",
      "|2012-01-05|          1.3|     8.9|     2.8| 6.1|   rain|       1|\n",
      "+----------+-------------+--------+--------+----+-------+--------+\n",
      "only showing top 5 rows\n",
      "\n"
     ]
    }
   ],
   "source": [
    "weather.show(5)"
   ]
  },
  {
   "cell_type": "code",
   "execution_count": 256,
   "id": "ed7c389c",
   "metadata": {},
   "outputs": [
    {
     "name": "stdout",
     "output_type": "stream",
     "text": [
      "+-------+--------+\n",
      "|weather|count of|\n",
      "+-------+--------+\n",
      "|drizzle|      10|\n",
      "|    fog|      38|\n",
      "|   rain|      35|\n",
      "|   snow|       8|\n",
      "|    sun|      33|\n",
      "+-------+--------+\n",
      "\n"
     ]
    }
   ],
   "source": [
    "(\n",
    "    weather[weather.themonth == 1].withColumn('theyear', month('date'))\n",
    "    .groupby('weather')\n",
    "    .agg(count('weather').alias('count of'))\n",
    "    .sort('weather')\n",
    ").show()"
   ]
  },
  {
   "cell_type": "markdown",
   "id": "c9cd0e8b",
   "metadata": {},
   "source": [
    "# What is the average high and low temperature on sunny days in July in 2013 and 2014?"
   ]
  },
  {
   "cell_type": "code",
   "execution_count": 292,
   "id": "0dd1be3a",
   "metadata": {},
   "outputs": [],
   "source": [
    "weather = weather.withColumn('theyear', year('date'))"
   ]
  },
  {
   "cell_type": "code",
   "execution_count": 271,
   "id": "8e73b596",
   "metadata": {},
   "outputs": [],
   "source": [
    "answer = weather[(weather.theyear == 2013) | (weather.theyear == 2014)]"
   ]
  },
  {
   "cell_type": "code",
   "execution_count": 278,
   "id": "4acd99c2",
   "metadata": {},
   "outputs": [],
   "source": [
    "answer = answer[(answer.weather == 'sun') & (answer.themonth == 7)]"
   ]
  },
  {
   "cell_type": "code",
   "execution_count": 280,
   "id": "db97ca01",
   "metadata": {},
   "outputs": [
    {
     "name": "stdout",
     "output_type": "stream",
     "text": [
      "+----------+-------------+--------+--------+----+-------+--------+-------+\n",
      "|      date|precipitation|temp_max|temp_min|wind|weather|themonth|theyear|\n",
      "+----------+-------------+--------+--------+----+-------+--------+-------+\n",
      "|2013-07-01|          0.0|    31.7|    18.3| 2.3|    sun|       7|   2013|\n",
      "|2013-07-02|          0.0|    28.3|    15.6| 3.0|    sun|       7|   2013|\n",
      "|2013-07-03|          0.0|    26.1|    16.7| 3.2|    sun|       7|   2013|\n",
      "+----------+-------------+--------+--------+----+-------+--------+-------+\n",
      "only showing top 3 rows\n",
      "\n"
     ]
    }
   ],
   "source": [
    "answer.show(3)"
   ]
  },
  {
   "cell_type": "code",
   "execution_count": 281,
   "id": "99f66014",
   "metadata": {},
   "outputs": [
    {
     "name": "stdout",
     "output_type": "stream",
     "text": [
      "+-------+-------------+\n",
      "|theyear|temp_min_mean|\n",
      "+-------+-------------+\n",
      "|   2013|        13.98|\n",
      "|   2014|         14.4|\n",
      "+-------+-------------+\n",
      "\n"
     ]
    }
   ],
   "source": [
    "(\n",
    "    answer\n",
    "    .groupby('theyear')\n",
    "    .agg(round(mean('temp_min'), 2).alias('temp_min_mean'))\n",
    "    .sort('temp_min_mean')\n",
    ").show()"
   ]
  },
  {
   "cell_type": "code",
   "execution_count": 282,
   "id": "e7b1cdb1",
   "metadata": {},
   "outputs": [
    {
     "name": "stdout",
     "output_type": "stream",
     "text": [
      "+-------+-------------+\n",
      "|theyear|temp_max_mean|\n",
      "+-------+-------------+\n",
      "|   2013|        26.59|\n",
      "|   2014|        27.09|\n",
      "+-------+-------------+\n",
      "\n"
     ]
    }
   ],
   "source": [
    "(\n",
    "    answer\n",
    "    .groupby('theyear')\n",
    "    .agg(round(mean('temp_max'), 2).alias('temp_max_mean'))\n",
    "    .sort('temp_max_mean')\n",
    ").show()"
   ]
  },
  {
   "cell_type": "markdown",
   "id": "a0b815dd",
   "metadata": {},
   "source": [
    "# What percentage of days were rainy in q3 of 2015?"
   ]
  },
  {
   "cell_type": "code",
   "execution_count": 318,
   "id": "c9098625",
   "metadata": {},
   "outputs": [
    {
     "data": {
      "text/plain": [
       "14.754098360655737"
      ]
     },
     "execution_count": 318,
     "metadata": {},
     "output_type": "execute_result"
    }
   ],
   "source": [
    "((72 / 488) * 100)"
   ]
  },
  {
   "cell_type": "code",
   "execution_count": 308,
   "id": "05ec998f",
   "metadata": {},
   "outputs": [],
   "source": [
    "the_answer = weather[(weather.themonth == 12) | (weather.themonth == 11) | (weather.themonth == 10) | (weather.themonth == 9) ]"
   ]
  },
  {
   "cell_type": "code",
   "execution_count": 310,
   "id": "cf8f6426",
   "metadata": {},
   "outputs": [
    {
     "name": "stdout",
     "output_type": "stream",
     "text": [
      "+----------+-------------+--------+--------+----+-------+-------+--------+\n",
      "|      date|precipitation|temp_max|temp_min|wind|weather|theyear|themonth|\n",
      "+----------+-------------+--------+--------+----+-------+-------+--------+\n",
      "|2012-09-01|          0.0|    21.7|    10.6| 2.1|    sun|   2012|       9|\n",
      "|2012-09-02|          0.0|    21.1|    10.0| 2.0|    sun|   2012|       9|\n",
      "|2012-09-03|          0.0|    22.8|    12.8| 3.3|    sun|   2012|       9|\n",
      "+----------+-------------+--------+--------+----+-------+-------+--------+\n",
      "only showing top 3 rows\n",
      "\n"
     ]
    }
   ],
   "source": [
    "the_answer.show(3)"
   ]
  },
  {
   "cell_type": "code",
   "execution_count": 312,
   "id": "e1e8c7bb",
   "metadata": {},
   "outputs": [
    {
     "name": "stdout",
     "output_type": "stream",
     "text": [
      "+-------+-----+\n",
      "|weather|count|\n",
      "+-------+-----+\n",
      "|   snow|    5|\n",
      "|drizzle|   14|\n",
      "|   rain|   72|\n",
      "|    sun|  198|\n",
      "|    fog|  199|\n",
      "+-------+-----+\n",
      "\n"
     ]
    }
   ],
   "source": [
    "(\n",
    "    the_answer\n",
    "    .groupby('weather')\n",
    "    .agg(count('weather').alias('count'))\n",
    "    .sort('count')\n",
    ").show()"
   ]
  },
  {
   "cell_type": "markdown",
   "id": "19d54ddf",
   "metadata": {},
   "source": [
    "# For each year, find what percentage of days it rained (had non-zero precipitation)."
   ]
  },
  {
   "cell_type": "code",
   "execution_count": 301,
   "id": "ca5ee3f1",
   "metadata": {},
   "outputs": [
    {
     "name": "stdout",
     "output_type": "stream",
     "text": [
      "+----------+-------------+--------+--------+----+-------+-------+--------+\n",
      "|      date|precipitation|temp_max|temp_min|wind|weather|theyear|themonth|\n",
      "+----------+-------------+--------+--------+----+-------+-------+--------+\n",
      "|2012-01-01|          0.0|    12.8|     5.0| 4.7|drizzle|   2012|       1|\n",
      "|2012-01-02|         10.9|    10.6|     2.8| 4.5|   rain|   2012|       1|\n",
      "|2012-01-03|          0.8|    11.7|     7.2| 2.3|   rain|   2012|       1|\n",
      "+----------+-------------+--------+--------+----+-------+-------+--------+\n",
      "only showing top 3 rows\n",
      "\n"
     ]
    }
   ],
   "source": [
    "weather.show(3)"
   ]
  },
  {
   "cell_type": "code",
   "execution_count": 304,
   "id": "a4a69ea8",
   "metadata": {},
   "outputs": [
    {
     "name": "stdout",
     "output_type": "stream",
     "text": [
      "+-------+-------------+\n",
      "|theyear|precipitation|\n",
      "+-------+-------------+\n",
      "|   2013|         5.45|\n",
      "|   2012|         6.93|\n",
      "|   2015|         7.91|\n",
      "|   2014|         8.22|\n",
      "+-------+-------------+\n",
      "\n"
     ]
    }
   ],
   "source": [
    "(\n",
    "    weather[weather.precipitation != 0]\n",
    "    .groupby('theyear')\n",
    "    .agg(round(mean('precipitation'), 2).alias('precipitation'))\n",
    "    .sort('precipitation')\n",
    ").show()"
   ]
  }
 ],
 "metadata": {
  "kernelspec": {
   "display_name": "Python 3 (ipykernel)",
   "language": "python",
   "name": "python3"
  },
  "language_info": {
   "codemirror_mode": {
    "name": "ipython",
    "version": 3
   },
   "file_extension": ".py",
   "mimetype": "text/x-python",
   "name": "python",
   "nbconvert_exporter": "python",
   "pygments_lexer": "ipython3",
   "version": "3.9.16"
  }
 },
 "nbformat": 4,
 "nbformat_minor": 5
}
